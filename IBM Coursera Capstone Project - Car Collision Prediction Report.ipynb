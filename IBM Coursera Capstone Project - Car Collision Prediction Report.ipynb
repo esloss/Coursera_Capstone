{
 "cells": [
  {
   "cell_type": "markdown",
   "metadata": {},
   "source": [
    "# IBM Coursera Capstone project - Car Collision Severity Prediction"
   ]
  },
  {
   "cell_type": "markdown",
   "metadata": {},
   "source": [
    "## INTRODUCTION - Business Problem"
   ]
  },
  {
   "cell_type": "markdown",
   "metadata": {},
   "source": [
    "In an effort to reduce fatalities from car accidents in Seattle, car collision data was gathered and leveraged to predict the different accidents' severity. If we can identify the most predictive attributes, we can predict what leads to more severe collisions and death. Local government officials could use this information to create targeted prevention programs - for example road warnings and speed bumps for drivers when weather/light/road conditions are not conducive to driver visibility, especially in specific junctions that may be more problematic (ie, tight turns, poorly lit road signs, etc). This information may be of interest to auto insurance companies who use data pertaining to areas with a higher frequency of parked car collisions when underwriting premiums. The goal of this project is prevention of car accidents and fatalities using a prediction model as the basis for targeted accident prevention programs. Using supervised machine learning, we will create a model to predict the severity of a collision based on a number of features such as location, weather condition, road condition, light condition, speeding, junction type, number of people involved and/or number of vehicles involved used to train the model. \n"
   ]
  },
  {
   "cell_type": "markdown",
   "metadata": {},
   "source": [
    "## DATA"
   ]
  },
  {
   "cell_type": "markdown",
   "metadata": {},
   "source": [
    "The data for this project was collected from the provided Data-Collisions csv file in IBM's Applied Data Science Capstone Project. This dataset includes many features or attributes to build a predictive machine learning model such as location, severity, collision type, weather conditions, light conditions, road conditions, inattention, drivind under the influence, etc. These attributes, as independent variables, could possibly predict the severity of accidents, the dependent variable, specified by \"SEVERITYCODE\" in the data.  In looking at the type of collsion severity in the data, there are two kinds of collision outcomes, represented by 1 = Property Damage that tells us that damage was done to property or vehicle but no injury and 2 = Injury, indicating bodily injurty to the passengers, driver or pedestrian. \n",
    "\n",
    "Data Highlights: \\\n",
    "The data is for all types of collisions occurring in the city of Seattle from 2004 to 2020. \\\n",
    "The data has been provided by SPD and include traffic records. \\\n",
    "There are approximately 194,673 records."
   ]
  },
  {
   "cell_type": "markdown",
   "metadata": {},
   "source": [
    "# Methodology"
   ]
  },
  {
   "cell_type": "markdown",
   "metadata": {},
   "source": [
    "### Exploratory Data Analysis, Data Transformation, and Cleaning"
   ]
  },
  {
   "cell_type": "markdown",
   "metadata": {},
   "source": [
    "1) After importing libraries, loading of the data and exploratory data analysis is the first step to understand the data and glean any hidden insights. This includes looking at unique values and plotting bar charts for key attributes such as JunctionType, LightCond, RoadCond, and Weather.  Missing values (nulls) were observed for all attributes, noting that JunctionType, Weather, RoadCond, LightCond, CollisionType, and AddrType have a higher percentage of missing values that will need to be attended to. \\\n",
    "2) Next, a new dataframe that included a select number of attributes (~17) that have a more likely role in predicting collision severity was created. \\\n",
    "3) Data Cleaning:   \\\n",
    "    3a)Unmatched records were deleted since it was a small percentage of all records, \\\n",
    "    3b)Missing values for important attributes such as JunctionType, CollisionType, St_Colcode, LightCond, RoadCond, and \n",
    "    Weather were dropped, first making sure that their values were evenly distributed by severity code. \\\n",
    "4) Data preparation will include balancing the labeled data to create an unbiased ML model, transformation, and feature engineering to improve the predictability of the model.\\\n",
    "    4a) Data Transformation for classification: \\\n",
    "    The dependent variable, Severity Code [1,2] was replaced with [0,1]. Independent variables such as InattentionInd, \n",
    "    PedRowNotGrntd, and Speeding were transformed from Y/Null to 0/1 dummy variables. Similarly, HitParkedCar was changed from \n",
    "    N/Y to 0/1, and UnderInf from 0/1/N/Y to 0/1.\\\n",
    "    4b) The much higher prevalence of records with SeverityCode=0 showed an imbalanced dataset that needed downsampling of the \n",
    "    majority class (0) to match the minority class (1), so the new class counts are equal (56656).\\\n",
    "5) Next we separate the dependent variables from the independent variables.\\\n",
    "We create two feature sets of independent variables:\\\n",
    "5a) fdf3 has all relevant independent variables such as PersonCount, PedCount, PedcyclCount, VehCount, InattentionInd, UnderInfl, PedRowNotGrnt, Speeding, and HitParkedCar\\\n",
    "5b) f2df3 includes variables more commonly known to play a role in prediction collisions and includes only InattentionInd,UnderInfl, PedRowNotGrnt, Speeding, and HitParkedCar\\\n",
    "5c) Both datasets were normalized using one hot encoding technique to convert categorical variables to binary variables and append them to the feature dataframe.\\\n",
    "5d) A subset for the dependent variable, SeverityCode was created as well."
   ]
  },
  {
   "cell_type": "markdown",
   "metadata": {},
   "source": [
    "### Data Modeling and Evaluation"
   ]
  },
  {
   "cell_type": "markdown",
   "metadata": {},
   "source": [
    "The dataset was divided into Training and Test sets before training standard classification models.\n",
    "Test/Train partitioning for fdf3 of independent variables X and for f2df3 of independent variables X2 was performed.\n",
    "Models such as Decision Tree, Support Vector Machine (SVM), Logistic Regression, and K Nearest Neighbor(KNN) were fit.\n",
    "\n",
    "The trained models were evaluated using the two separate test feature sets of independent variables to assess prediction.\n",
    "Evaluation was done using Decision Tree, SVM, Logistic Regression, and KNN model evaluations. LR Jaccard index and F1 Score were calculated for all models. Decision Tree model's accuracy score was calculated additionally as was the LogLoss for the Logistic Regression model."
   ]
  },
  {
   "cell_type": "markdown",
   "metadata": {},
   "source": [
    "# Results"
   ]
  },
  {
   "cell_type": "markdown",
   "metadata": {},
   "source": [
    "The below evaluation metrics describe the accuracy of the models:\n",
    "\n",
    "Accuracy of the model for the first set of independent variables X that include all relevant variables that may determine collision severity:"
   ]
  },
  {
   "cell_type": "markdown",
   "metadata": {},
   "source": [
    "| Algorithm          | Jaccard | F1-score | LogLoss |\n",
    "|--------------------|---------|----------|---------|\n",
    "| KNN                | 0.69    | 0.69     | NA      |\n",
    "| Decision Tree      | 0.68    | 0.66     | NA      |\n",
    "| SVM                | 0.71    | 0.71     | NA      |\n",
    "| LogisticRegression | 0.71    | 0.71     | 0.53    |"
   ]
  },
  {
   "cell_type": "markdown",
   "metadata": {},
   "source": [
    "Accuracy of the model for the second set of independent variables X2 that include a smaller set of variables that may determine collision severity:"
   ]
  },
  {
   "cell_type": "markdown",
   "metadata": {},
   "source": [
    "| Algorithm          | Jaccard | F1-score | LogLoss |\n",
    "|--------------------|---------|----------|---------|\n",
    "| KNN                | 0.57    | 0.55     | NA      |\n",
    "| Decision Tree      | 0.60    | 0.60     | NA      |\n",
    "| SVM                | 0.62    | 0.62     | NA      |\n",
    "| LogisticRegression | 0.62    | 0.62     | 0.63    |"
   ]
  },
  {
   "cell_type": "markdown",
   "metadata": {},
   "source": [
    "# Discussion"
   ]
  },
  {
   "cell_type": "markdown",
   "metadata": {},
   "source": [
    "In evaluating the built models, we see that they are predicting collision severity with a decent degree of accuracy, especially for the first set that uses more independent variables. However, as we want the prediction model to be applicable for all scenarios of number of persons, pedestrians, bicycles, and vehicles involved, the second feature set may be of more practical value in using it to create targeted prevention programs. KNN, Decision Tree, SVM, and Logistic Regression were used to predict the severity of collisions around 55-62%. SVM and Logistic Regression models were more accurate, falling around 62-63%.\n",
    "\n",
    "We can use these models to institute prevention steps that warn drivers to take precautions, drive attentively, not drive under the influence, watch for pedestrians, which could prevent accidents in the first place or at least lower the severity from a fatality or serious injury to mere property damage. \n",
    "\n",
    "Some limitations in the models may include not including more important independent variables such as area within the city or junction type. The model may benefit from changing some numerical variables such as PedCount and PedCycCount into binary variables (ie, pedestrian or cyclist involved at all?) and incorporate in the feature sets to improve specificity of prevention programs."
   ]
  },
  {
   "cell_type": "markdown",
   "metadata": {},
   "source": [
    "# Conclusion"
   ]
  },
  {
   "cell_type": "markdown",
   "metadata": {},
   "source": [
    "Automobile collisions are costly, are a leading cause of death, and can cause a large financial, mental and physical toll to citizens. The variables in the model have a significant impact on collision severity and are things easily preventable with simple, cost-effective road warnings and DMV marketing.\n",
    "\n",
    "The models can predict the severity of the car collision before it happens with reasonable accuracy, using a number of variables that can be measured. The hope is this will reduce the severity of a collision to mere property damage versus death or serious injury.\n",
    "\n",
    "To further refine the models, we could include more independent variables in the model such as geographical sectors within the city, capture more data such as average potholes for that area, and if texting/phone use involved in the collision, etc. The models could be rerun and evaluated to see if accuracy is higher than the current models. Once the targeted preventive program is implemented involving road signs, fliers, DMV marketing, etc for certain areas with higher prevalence of accidents, an evaluation of the recommendation system comparing pre- and post-program should be performed. "
   ]
  },
  {
   "cell_type": "code",
   "execution_count": null,
   "metadata": {},
   "outputs": [],
   "source": []
  }
 ],
 "metadata": {
  "kernelspec": {
   "display_name": "Python 3",
   "language": "python",
   "name": "python3"
  },
  "language_info": {
   "codemirror_mode": {
    "name": "ipython",
    "version": 3
   },
   "file_extension": ".py",
   "mimetype": "text/x-python",
   "name": "python",
   "nbconvert_exporter": "python",
   "pygments_lexer": "ipython3",
   "version": "3.7.6"
  }
 },
 "nbformat": 4,
 "nbformat_minor": 4
}
