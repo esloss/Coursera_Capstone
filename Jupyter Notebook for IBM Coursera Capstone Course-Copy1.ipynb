{
 "cells": [
  {
   "cell_type": "markdown",
   "metadata": {},
   "source": [
    "# IBM Coursera Capstone project - Car Collision Severity Prediction"
   ]
  },
  {
   "cell_type": "code",
   "execution_count": 1,
   "metadata": {},
   "outputs": [],
   "source": [
    "import matplotlib.pyplot as plt\n",
    "import pandas as pd\n",
    "import pylab as pl\n",
    "import numpy as np\n",
    "import seaborn as sns\n",
    "import scipy.optimize as opt\n",
    "from sklearn.model_selection import train_test_split\n",
    "from sklearn.preprocessing import StandardScaler\n",
    "from sklearn import preprocessing\n",
    "%matplotlib inline"
   ]
  },
  {
   "cell_type": "markdown",
   "metadata": {},
   "source": [
    "###### Exploratory Data Analysis"
   ]
  },
  {
   "cell_type": "code",
   "execution_count": 3,
   "metadata": {},
   "outputs": [
    {
     "name": "stderr",
     "output_type": "stream",
     "text": [
      "'wget' is not recognized as an internal or external command,\n",
      "operable program or batch file.\n"
     ]
    }
   ],
   "source": [
    "!wget -O Data-Collisions.csv https://s3.us.cloud-object-storage.appdomain.cloud/cf-courses-data/CognitiveClass/DP0701EN/version-2/Data-Collisions.csv"
   ]
  },
  {
   "cell_type": "code",
   "execution_count": 4,
   "metadata": {},
   "outputs": [
    {
     "name": "stderr",
     "output_type": "stream",
     "text": [
      "C:\\Users\\ElaheSloss\\anaconda3\\lib\\site-packages\\IPython\\core\\interactiveshell.py:3063: DtypeWarning: Columns (33) have mixed types.Specify dtype option on import or set low_memory=False.\n",
      "  interactivity=interactivity, compiler=compiler, result=result)\n"
     ]
    }
   ],
   "source": [
    "#import/read in the dataset as df dataframe\n",
    "df = pd.read_csv('Data-Collisions.csv')"
   ]
  },
  {
   "cell_type": "code",
   "execution_count": 5,
   "metadata": {},
   "outputs": [
    {
     "data": {
      "text/html": [
       "<div>\n",
       "<style scoped>\n",
       "    .dataframe tbody tr th:only-of-type {\n",
       "        vertical-align: middle;\n",
       "    }\n",
       "\n",
       "    .dataframe tbody tr th {\n",
       "        vertical-align: top;\n",
       "    }\n",
       "\n",
       "    .dataframe thead th {\n",
       "        text-align: right;\n",
       "    }\n",
       "</style>\n",
       "<table border=\"1\" class=\"dataframe\">\n",
       "  <thead>\n",
       "    <tr style=\"text-align: right;\">\n",
       "      <th></th>\n",
       "      <th>SEVERITYCODE</th>\n",
       "      <th>X</th>\n",
       "      <th>Y</th>\n",
       "      <th>OBJECTID</th>\n",
       "      <th>INCKEY</th>\n",
       "      <th>COLDETKEY</th>\n",
       "      <th>REPORTNO</th>\n",
       "      <th>STATUS</th>\n",
       "      <th>ADDRTYPE</th>\n",
       "      <th>INTKEY</th>\n",
       "      <th>...</th>\n",
       "      <th>ROADCOND</th>\n",
       "      <th>LIGHTCOND</th>\n",
       "      <th>PEDROWNOTGRNT</th>\n",
       "      <th>SDOTCOLNUM</th>\n",
       "      <th>SPEEDING</th>\n",
       "      <th>ST_COLCODE</th>\n",
       "      <th>ST_COLDESC</th>\n",
       "      <th>SEGLANEKEY</th>\n",
       "      <th>CROSSWALKKEY</th>\n",
       "      <th>HITPARKEDCAR</th>\n",
       "    </tr>\n",
       "  </thead>\n",
       "  <tbody>\n",
       "    <tr>\n",
       "      <th>0</th>\n",
       "      <td>2</td>\n",
       "      <td>-122.323148</td>\n",
       "      <td>47.703140</td>\n",
       "      <td>1</td>\n",
       "      <td>1307</td>\n",
       "      <td>1307</td>\n",
       "      <td>3502005</td>\n",
       "      <td>Matched</td>\n",
       "      <td>Intersection</td>\n",
       "      <td>37475.0</td>\n",
       "      <td>...</td>\n",
       "      <td>Wet</td>\n",
       "      <td>Daylight</td>\n",
       "      <td>NaN</td>\n",
       "      <td>NaN</td>\n",
       "      <td>NaN</td>\n",
       "      <td>10</td>\n",
       "      <td>Entering at angle</td>\n",
       "      <td>0</td>\n",
       "      <td>0</td>\n",
       "      <td>N</td>\n",
       "    </tr>\n",
       "    <tr>\n",
       "      <th>1</th>\n",
       "      <td>1</td>\n",
       "      <td>-122.347294</td>\n",
       "      <td>47.647172</td>\n",
       "      <td>2</td>\n",
       "      <td>52200</td>\n",
       "      <td>52200</td>\n",
       "      <td>2607959</td>\n",
       "      <td>Matched</td>\n",
       "      <td>Block</td>\n",
       "      <td>NaN</td>\n",
       "      <td>...</td>\n",
       "      <td>Wet</td>\n",
       "      <td>Dark - Street Lights On</td>\n",
       "      <td>NaN</td>\n",
       "      <td>6354039.0</td>\n",
       "      <td>NaN</td>\n",
       "      <td>11</td>\n",
       "      <td>From same direction - both going straight - bo...</td>\n",
       "      <td>0</td>\n",
       "      <td>0</td>\n",
       "      <td>N</td>\n",
       "    </tr>\n",
       "    <tr>\n",
       "      <th>2</th>\n",
       "      <td>1</td>\n",
       "      <td>-122.334540</td>\n",
       "      <td>47.607871</td>\n",
       "      <td>3</td>\n",
       "      <td>26700</td>\n",
       "      <td>26700</td>\n",
       "      <td>1482393</td>\n",
       "      <td>Matched</td>\n",
       "      <td>Block</td>\n",
       "      <td>NaN</td>\n",
       "      <td>...</td>\n",
       "      <td>Dry</td>\n",
       "      <td>Daylight</td>\n",
       "      <td>NaN</td>\n",
       "      <td>4323031.0</td>\n",
       "      <td>NaN</td>\n",
       "      <td>32</td>\n",
       "      <td>One parked--one moving</td>\n",
       "      <td>0</td>\n",
       "      <td>0</td>\n",
       "      <td>N</td>\n",
       "    </tr>\n",
       "    <tr>\n",
       "      <th>3</th>\n",
       "      <td>1</td>\n",
       "      <td>-122.334803</td>\n",
       "      <td>47.604803</td>\n",
       "      <td>4</td>\n",
       "      <td>1144</td>\n",
       "      <td>1144</td>\n",
       "      <td>3503937</td>\n",
       "      <td>Matched</td>\n",
       "      <td>Block</td>\n",
       "      <td>NaN</td>\n",
       "      <td>...</td>\n",
       "      <td>Dry</td>\n",
       "      <td>Daylight</td>\n",
       "      <td>NaN</td>\n",
       "      <td>NaN</td>\n",
       "      <td>NaN</td>\n",
       "      <td>23</td>\n",
       "      <td>From same direction - all others</td>\n",
       "      <td>0</td>\n",
       "      <td>0</td>\n",
       "      <td>N</td>\n",
       "    </tr>\n",
       "    <tr>\n",
       "      <th>4</th>\n",
       "      <td>2</td>\n",
       "      <td>-122.306426</td>\n",
       "      <td>47.545739</td>\n",
       "      <td>5</td>\n",
       "      <td>17700</td>\n",
       "      <td>17700</td>\n",
       "      <td>1807429</td>\n",
       "      <td>Matched</td>\n",
       "      <td>Intersection</td>\n",
       "      <td>34387.0</td>\n",
       "      <td>...</td>\n",
       "      <td>Wet</td>\n",
       "      <td>Daylight</td>\n",
       "      <td>NaN</td>\n",
       "      <td>4028032.0</td>\n",
       "      <td>NaN</td>\n",
       "      <td>10</td>\n",
       "      <td>Entering at angle</td>\n",
       "      <td>0</td>\n",
       "      <td>0</td>\n",
       "      <td>N</td>\n",
       "    </tr>\n",
       "  </tbody>\n",
       "</table>\n",
       "<p>5 rows × 38 columns</p>\n",
       "</div>"
      ],
      "text/plain": [
       "   SEVERITYCODE           X          Y  OBJECTID  INCKEY  COLDETKEY REPORTNO  \\\n",
       "0             2 -122.323148  47.703140         1    1307       1307  3502005   \n",
       "1             1 -122.347294  47.647172         2   52200      52200  2607959   \n",
       "2             1 -122.334540  47.607871         3   26700      26700  1482393   \n",
       "3             1 -122.334803  47.604803         4    1144       1144  3503937   \n",
       "4             2 -122.306426  47.545739         5   17700      17700  1807429   \n",
       "\n",
       "    STATUS      ADDRTYPE   INTKEY  ... ROADCOND                LIGHTCOND  \\\n",
       "0  Matched  Intersection  37475.0  ...      Wet                 Daylight   \n",
       "1  Matched         Block      NaN  ...      Wet  Dark - Street Lights On   \n",
       "2  Matched         Block      NaN  ...      Dry                 Daylight   \n",
       "3  Matched         Block      NaN  ...      Dry                 Daylight   \n",
       "4  Matched  Intersection  34387.0  ...      Wet                 Daylight   \n",
       "\n",
       "  PEDROWNOTGRNT  SDOTCOLNUM SPEEDING ST_COLCODE  \\\n",
       "0           NaN         NaN      NaN         10   \n",
       "1           NaN   6354039.0      NaN         11   \n",
       "2           NaN   4323031.0      NaN         32   \n",
       "3           NaN         NaN      NaN         23   \n",
       "4           NaN   4028032.0      NaN         10   \n",
       "\n",
       "                                          ST_COLDESC  SEGLANEKEY  \\\n",
       "0                                  Entering at angle           0   \n",
       "1  From same direction - both going straight - bo...           0   \n",
       "2                             One parked--one moving           0   \n",
       "3                   From same direction - all others           0   \n",
       "4                                  Entering at angle           0   \n",
       "\n",
       "   CROSSWALKKEY  HITPARKEDCAR  \n",
       "0             0             N  \n",
       "1             0             N  \n",
       "2             0             N  \n",
       "3             0             N  \n",
       "4             0             N  \n",
       "\n",
       "[5 rows x 38 columns]"
      ]
     },
     "execution_count": 5,
     "metadata": {},
     "output_type": "execute_result"
    }
   ],
   "source": [
    "#take a look at the data\n",
    "df.head()"
   ]
  },
  {
   "cell_type": "code",
   "execution_count": 6,
   "metadata": {},
   "outputs": [
    {
     "data": {
      "text/plain": [
       "array(['At Intersection (intersection related)',\n",
       "       'Mid-Block (not related to intersection)', 'Driveway Junction',\n",
       "       'Mid-Block (but intersection related)',\n",
       "       'At Intersection (but not related to intersection)', nan,\n",
       "       'Unknown', 'Ramp Junction'], dtype=object)"
      ]
     },
     "execution_count": 6,
     "metadata": {},
     "output_type": "execute_result"
    }
   ],
   "source": [
    "df['JUNCTIONTYPE'].unique()"
   ]
  },
  {
   "cell_type": "code",
   "execution_count": 7,
   "metadata": {},
   "outputs": [
    {
     "data": {
      "text/plain": [
       "array(['Daylight', 'Dark - Street Lights On', 'Dark - No Street Lights',\n",
       "       nan, 'Unknown', 'Dusk', 'Dawn', 'Dark - Street Lights Off',\n",
       "       'Other', 'Dark - Unknown Lighting'], dtype=object)"
      ]
     },
     "execution_count": 7,
     "metadata": {},
     "output_type": "execute_result"
    }
   ],
   "source": [
    "df['LIGHTCOND'].unique()"
   ]
  },
  {
   "cell_type": "code",
   "execution_count": 8,
   "metadata": {},
   "outputs": [
    {
     "data": {
      "text/plain": [
       "array(['Wet', 'Dry', nan, 'Unknown', 'Snow/Slush', 'Ice', 'Other',\n",
       "       'Sand/Mud/Dirt', 'Standing Water', 'Oil'], dtype=object)"
      ]
     },
     "execution_count": 8,
     "metadata": {},
     "output_type": "execute_result"
    }
   ],
   "source": [
    "df['ROADCOND'].unique()"
   ]
  },
  {
   "cell_type": "code",
   "execution_count": 9,
   "metadata": {},
   "outputs": [
    {
     "data": {
      "text/plain": [
       "array(['Overcast', 'Raining', 'Clear', nan, 'Unknown', 'Other', 'Snowing',\n",
       "       'Fog/Smog/Smoke', 'Sleet/Hail/Freezing Rain', 'Blowing Sand/Dirt',\n",
       "       'Severe Crosswind', 'Partly Cloudy'], dtype=object)"
      ]
     },
     "execution_count": 9,
     "metadata": {},
     "output_type": "execute_result"
    }
   ],
   "source": [
    "df['WEATHER'].unique()"
   ]
  },
  {
   "cell_type": "code",
   "execution_count": 10,
   "metadata": {},
   "outputs": [
    {
     "data": {
      "image/png": "[encoded data removed]",
      "text/plain": [
       "<Figure size 432x216 with 2 Axes>"
      ]
     },
     "metadata": {
      "needs_background": "light"
     },
     "output_type": "display_data"
    }
   ],
   "source": [
    "df_RC = df[['ROADCOND', 'SEVERITYCODE', 'OBJECTID']]\n",
    "df_RC_group = df_RC.groupby(['ROADCOND','SEVERITYCODE'],as_index=False).count()\n",
    "\n",
    "bins = np.linspace(df.OBJECTID.min(), df.OBJECTID.max(), 2)\n",
    "g = sns.FacetGrid(df, col=\"SEVERITYCODE\", hue=\"ROADCOND\", palette=\"Set1\", col_wrap=2)\n",
    "g.map(plt.hist, 'OBJECTID', bins=bins, ec=\"k\")\n",
    "\n",
    "g.axes[-1].legend()\n",
    "plt.show()"
   ]
  },
  {
   "cell_type": "code",
   "execution_count": 11,
   "metadata": {},
   "outputs": [
    {
     "data": {
      "image/png": "[encoded data removed]",
      "text/plain": [
       "<Figure size 432x216 with 2 Axes>"
      ]
     },
     "metadata": {
      "needs_background": "light"
     },
     "output_type": "display_data"
    }
   ],
   "source": [
    "df_JT = df[['JUNCTIONTYPE', 'SEVERITYCODE', 'OBJECTID']]\n",
    "df_JT_group = df_JT.groupby(['JUNCTIONTYPE','SEVERITYCODE'],as_index=False).count()\n",
    "\n",
    "bins = np.linspace(df.OBJECTID.min(), df.OBJECTID.max(), 2)\n",
    "g = sns.FacetGrid(df, col=\"SEVERITYCODE\", hue=\"JUNCTIONTYPE\", palette=\"Set1\", col_wrap=2)\n",
    "g.map(plt.hist, 'OBJECTID', bins=bins, ec=\"k\")\n",
    "\n",
    "g.axes[-1].legend()\n",
    "plt.show()"
   ]
  },
  {
   "cell_type": "code",
   "execution_count": 12,
   "metadata": {},
   "outputs": [
    {
     "data": {
      "image/png": "[encoded data removed]",
      "text/plain": [
       "<Figure size 432x216 with 2 Axes>"
      ]
     },
     "metadata": {
      "needs_background": "light"
     },
     "output_type": "display_data"
    }
   ],
   "source": [
    "df_LC = df[['LIGHTCOND', 'SEVERITYCODE', 'OBJECTID']]\n",
    "df_LC_group = df_LC.groupby(['LIGHTCOND','SEVERITYCODE'],as_index=False).count()\n",
    "\n",
    "bins = np.linspace(df.OBJECTID.min(), df.OBJECTID.max(), 2)\n",
    "g = sns.FacetGrid(df, col=\"SEVERITYCODE\", hue=\"LIGHTCOND\", palette=\"Set1\", col_wrap=2)\n",
    "g.map(plt.hist, 'OBJECTID', bins=bins, ec=\"k\")\n",
    "\n",
    "g.axes[-1].legend()\n",
    "plt.show()"
   ]
  },
  {
   "cell_type": "code",
   "execution_count": 13,
   "metadata": {},
   "outputs": [
    {
     "data": {
      "image/png": "[encoded data removed]",
      "text/plain": [
       "<Figure size 432x216 with 2 Axes>"
      ]
     },
     "metadata": {
      "needs_background": "light"
     },
     "output_type": "display_data"
    }
   ],
   "source": [
    "df_W = df[['WEATHER', 'SEVERITYCODE', 'OBJECTID']]\n",
    "df_W_group = df_W.groupby(['WEATHER','SEVERITYCODE'],as_index=False).count()\n",
    "\n",
    "bins = np.linspace(df.OBJECTID.min(), df.OBJECTID.max(), 2)\n",
    "g = sns.FacetGrid(df, col=\"SEVERITYCODE\", hue=\"WEATHER\", palette=\"Set1\", col_wrap=2)\n",
    "g.map(plt.hist, 'OBJECTID', bins=bins, ec=\"k\")\n",
    "\n",
    "g.axes[-1].legend()\n",
    "plt.show()"
   ]
  },
  {
   "cell_type": "code",
   "execution_count": 14,
   "metadata": {},
   "outputs": [
    {
     "name": "stdout",
     "output_type": "stream",
     "text": [
      "SEVERITYCODE\n",
      "False    194673\n",
      "Name: SEVERITYCODE, dtype: int64\n",
      "\n",
      "X\n",
      "False    189339\n",
      "True       5334\n",
      "Name: X, dtype: int64\n",
      "\n",
      "Y\n",
      "False    189339\n",
      "True       5334\n",
      "Name: Y, dtype: int64\n",
      "\n",
      "OBJECTID\n",
      "False    194673\n",
      "Name: OBJECTID, dtype: int64\n",
      "\n",
      "INCKEY\n",
      "False    194673\n",
      "Name: INCKEY, dtype: int64\n",
      "\n",
      "COLDETKEY\n",
      "False    194673\n",
      "Name: COLDETKEY, dtype: int64\n",
      "\n",
      "REPORTNO\n",
      "False    194673\n",
      "Name: REPORTNO, dtype: int64\n",
      "\n",
      "STATUS\n",
      "False    194673\n",
      "Name: STATUS, dtype: int64\n",
      "\n",
      "ADDRTYPE\n",
      "False    192747\n",
      "True       1926\n",
      "Name: ADDRTYPE, dtype: int64\n",
      "\n",
      "INTKEY\n",
      "True     129603\n",
      "False     65070\n",
      "Name: INTKEY, dtype: int64\n",
      "\n",
      "LOCATION\n",
      "False    191996\n",
      "True       2677\n",
      "Name: LOCATION, dtype: int64\n",
      "\n",
      "EXCEPTRSNCODE\n",
      "True     109862\n",
      "False     84811\n",
      "Name: EXCEPTRSNCODE, dtype: int64\n",
      "\n",
      "EXCEPTRSNDESC\n",
      "True     189035\n",
      "False      5638\n",
      "Name: EXCEPTRSNDESC, dtype: int64\n",
      "\n",
      "SEVERITYCODE.1\n",
      "False    194673\n",
      "Name: SEVERITYCODE.1, dtype: int64\n",
      "\n",
      "SEVERITYDESC\n",
      "False    194673\n",
      "Name: SEVERITYDESC, dtype: int64\n",
      "\n",
      "COLLISIONTYPE\n",
      "False    189769\n",
      "True       4904\n",
      "Name: COLLISIONTYPE, dtype: int64\n",
      "\n",
      "PERSONCOUNT\n",
      "False    194673\n",
      "Name: PERSONCOUNT, dtype: int64\n",
      "\n",
      "PEDCOUNT\n",
      "False    194673\n",
      "Name: PEDCOUNT, dtype: int64\n",
      "\n",
      "PEDCYLCOUNT\n",
      "False    194673\n",
      "Name: PEDCYLCOUNT, dtype: int64\n",
      "\n",
      "VEHCOUNT\n",
      "False    194673\n",
      "Name: VEHCOUNT, dtype: int64\n",
      "\n",
      "INCDATE\n",
      "False    194673\n",
      "Name: INCDATE, dtype: int64\n",
      "\n",
      "INCDTTM\n",
      "False    194673\n",
      "Name: INCDTTM, dtype: int64\n",
      "\n",
      "JUNCTIONTYPE\n",
      "False    188344\n",
      "True       6329\n",
      "Name: JUNCTIONTYPE, dtype: int64\n",
      "\n",
      "SDOT_COLCODE\n",
      "False    194673\n",
      "Name: SDOT_COLCODE, dtype: int64\n",
      "\n",
      "SDOT_COLDESC\n",
      "False    194673\n",
      "Name: SDOT_COLDESC, dtype: int64\n",
      "\n",
      "INATTENTIONIND\n",
      "True     164868\n",
      "False     29805\n",
      "Name: INATTENTIONIND, dtype: int64\n",
      "\n",
      "UNDERINFL\n",
      "False    189789\n",
      "True       4884\n",
      "Name: UNDERINFL, dtype: int64\n",
      "\n",
      "WEATHER\n",
      "False    189592\n",
      "True       5081\n",
      "Name: WEATHER, dtype: int64\n",
      "\n",
      "ROADCOND\n",
      "False    189661\n",
      "True       5012\n",
      "Name: ROADCOND, dtype: int64\n",
      "\n",
      "LIGHTCOND\n",
      "False    189503\n",
      "True       5170\n",
      "Name: LIGHTCOND, dtype: int64\n",
      "\n",
      "PEDROWNOTGRNT\n",
      "True     190006\n",
      "False      4667\n",
      "Name: PEDROWNOTGRNT, dtype: int64\n",
      "\n",
      "SDOTCOLNUM\n",
      "False    114936\n",
      "True      79737\n",
      "Name: SDOTCOLNUM, dtype: int64\n",
      "\n",
      "SPEEDING\n",
      "True     185340\n",
      "False      9333\n",
      "Name: SPEEDING, dtype: int64\n",
      "\n",
      "ST_COLCODE\n",
      "False    194655\n",
      "True         18\n",
      "Name: ST_COLCODE, dtype: int64\n",
      "\n",
      "ST_COLDESC\n",
      "False    189769\n",
      "True       4904\n",
      "Name: ST_COLDESC, dtype: int64\n",
      "\n",
      "SEGLANEKEY\n",
      "False    194673\n",
      "Name: SEGLANEKEY, dtype: int64\n",
      "\n",
      "CROSSWALKKEY\n",
      "False    194673\n",
      "Name: CROSSWALKKEY, dtype: int64\n",
      "\n",
      "HITPARKEDCAR\n",
      "False    194673\n",
      "Name: HITPARKEDCAR, dtype: int64\n",
      "\n"
     ]
    }
   ],
   "source": [
    "#how many elements with nulls for each 37 attribute\n",
    "#JunctionType has 6329 missing values, Weather 5081, ROADCOND 5012, LIGHTCOND 5170, COLLISIONTYPE 4904, ADDRTYPE 1926\n",
    "missing_data = df.isnull()\n",
    "for column in missing_data.columns.values.tolist():\n",
    "    print(column)\n",
    "    print (missing_data[column].value_counts())\n",
    "    print(\"\")    "
   ]
  },
  {
   "cell_type": "code",
   "execution_count": 15,
   "metadata": {},
   "outputs": [],
   "source": [
    "#Create a new df with features with possible role in prediction of collision severity\n",
    "df2 = df[['SEVERITYCODE', 'STATUS', 'ADDRTYPE', 'COLLISIONTYPE', 'PERSONCOUNT', 'PEDCOUNT', \\\n",
    "            'PEDCYLCOUNT', 'VEHCOUNT', 'JUNCTIONTYPE', 'SDOT_COLCODE', 'INATTENTIONIND', 'UNDERINFL', 'WEATHER', 'ROADCOND', \\\n",
    "          'LIGHTCOND', 'PEDROWNOTGRNT', 'SPEEDING', 'ST_COLCODE', 'HITPARKEDCAR']]"
   ]
  },
  {
   "cell_type": "code",
   "execution_count": 16,
   "metadata": {},
   "outputs": [
    {
     "data": {
      "text/plain": [
       "STATUS\n",
       "Matched      189786\n",
       "Unmatched      4887\n",
       "dtype: int64"
      ]
     },
     "execution_count": 16,
     "metadata": {},
     "output_type": "execute_result"
    }
   ],
   "source": [
    "#Unmatched records are concerning as to validity and may be a good idea to remove\n",
    "df2.groupby('STATUS').size()\n"
   ]
  },
  {
   "cell_type": "code",
   "execution_count": 17,
   "metadata": {
    "scrolled": true
   },
   "outputs": [
    {
     "data": {
      "text/plain": [
       "STATUS\n",
       "Matched    189786\n",
       "dtype: int64"
      ]
     },
     "execution_count": 17,
     "metadata": {},
     "output_type": "execute_result"
    }
   ],
   "source": [
    "#Delete unmatched records as it's a small percentage of overall records\n",
    "df2 = df2[df2.STATUS != \"Unmatched\"]\n",
    "df2.groupby('STATUS').size()"
   ]
  },
  {
   "cell_type": "code",
   "execution_count": 18,
   "metadata": {},
   "outputs": [],
   "source": [
    "#Delete Nan missing values for these attributes\n",
    "df2 = df2.dropna(axis = 0, subset=['JUNCTIONTYPE'])\n",
    "df2 = df2.dropna(axis = 0, subset=['COLLISIONTYPE'])\n",
    "df2 = df2.dropna(axis = 0, subset=['ST_COLCODE'])\n",
    "df2 = df2.dropna(axis = 0, subset=['LIGHTCOND'])\n",
    "df2 = df2.dropna(axis = 0, subset=['ROADCOND'])\n",
    "df2 = df2.dropna(axis = 0, subset=['WEATHER'])"
   ]
  },
  {
   "cell_type": "code",
   "execution_count": 19,
   "metadata": {},
   "outputs": [],
   "source": [
    "#Regroup Unknown/Other values all together\n",
    "df2['LIGHTCOND'].replace(['Other', 'Unknown'], 'Unknown/Other', inplace=True)\n",
    "df2['ROADCOND'].replace(['Unknown', 'Other'],'Unknown/Other', inplace = True)\n",
    "df2['WEATHER'].replace(['Unknown', 'Other'], 'Unknown/Other', inplace = True)"
   ]
  },
  {
   "cell_type": "code",
   "execution_count": 20,
   "metadata": {},
   "outputs": [],
   "source": [
    "#transform dependent variable for classification\n",
    "df2['SEVERITYCODE'] = df2['SEVERITYCODE'].replace([1,2],[0,1])"
   ]
  },
  {
   "cell_type": "code",
   "execution_count": 21,
   "metadata": {},
   "outputs": [
    {
     "data": {
      "text/plain": [
       "INATTENTIONIND\n",
       "0    153935\n",
       "1     29239\n",
       "dtype: int64"
      ]
     },
     "execution_count": 21,
     "metadata": {},
     "output_type": "execute_result"
    }
   ],
   "source": [
    "#Transform Inattention Ind (Y/Null to 0/1 dummy variables)\n",
    "df2['INATTENTIONIND'] = df2['INATTENTIONIND'].replace(np.nan, 0)\n",
    "df2['INATTENTIONIND'] = df2['INATTENTIONIND'].replace(\"Y\", 1)\n",
    "df2.groupby('INATTENTIONIND').size()"
   ]
  },
  {
   "cell_type": "code",
   "execution_count": 22,
   "metadata": {},
   "outputs": [
    {
     "data": {
      "text/plain": [
       "UNDERINFL\n",
       "0    174172\n",
       "1      9002\n",
       "dtype: int64"
      ]
     },
     "execution_count": 22,
     "metadata": {},
     "output_type": "execute_result"
    }
   ],
   "source": [
    "#Transform DUI (0/1/N/Y to 0/1)\n",
    "df2['UNDERINFL'] = df2['UNDERINFL'].replace(['0','N'],0)\n",
    "df2['UNDERINFL'] = df2['UNDERINFL'].replace(['1','Y'],1)\n",
    "df2.groupby('UNDERINFL').size()"
   ]
  },
  {
   "cell_type": "code",
   "execution_count": 23,
   "metadata": {},
   "outputs": [
    {
     "data": {
      "text/plain": [
       "PEDROWNOTGRNT\n",
       "0    178526\n",
       "1      4648\n",
       "dtype: int64"
      ]
     },
     "execution_count": 23,
     "metadata": {},
     "output_type": "execute_result"
    }
   ],
   "source": [
    "#Transform Pedestrian Right Of Way Not Granted indicator from Y/null to 0/1\n",
    "df2['PEDROWNOTGRNT'] = df2['PEDROWNOTGRNT'].replace(np.nan, 0)\n",
    "df2['PEDROWNOTGRNT'] = df2['PEDROWNOTGRNT'].replace(\"Y\", 1)\n",
    "df2.groupby('PEDROWNOTGRNT').size()"
   ]
  },
  {
   "cell_type": "code",
   "execution_count": 24,
   "metadata": {},
   "outputs": [
    {
     "data": {
      "text/plain": [
       "SPEEDING\n",
       "0    173965\n",
       "1      9209\n",
       "dtype: int64"
      ]
     },
     "execution_count": 24,
     "metadata": {},
     "output_type": "execute_result"
    }
   ],
   "source": [
    "#Transform speeding indicator from Y/Null to 0/1\n",
    "df2['SPEEDING'] = df2['SPEEDING'].replace(np.nan, 0)\n",
    "df2['SPEEDING'] = df2['SPEEDING'].replace(\"Y\", 1)\n",
    "df2.groupby('SPEEDING').size()"
   ]
  },
  {
   "cell_type": "code",
   "execution_count": 25,
   "metadata": {},
   "outputs": [
    {
     "data": {
      "text/plain": [
       "HITPARKEDCAR\n",
       "0    177440\n",
       "1      5734\n",
       "dtype: int64"
      ]
     },
     "execution_count": 25,
     "metadata": {},
     "output_type": "execute_result"
    }
   ],
   "source": [
    "#Transform Hit Parked Car indicator from N/Y to 0/1\n",
    "df2['HITPARKEDCAR'] = df2['HITPARKEDCAR'].replace(\"N\", 0)\n",
    "df2['HITPARKEDCAR'] = df2['HITPARKEDCAR'].replace(\"Y\", 1)\n",
    "df2.groupby('HITPARKEDCAR').size()"
   ]
  },
  {
   "cell_type": "code",
   "execution_count": 26,
   "metadata": {},
   "outputs": [
    {
     "data": {
      "text/html": [
       "<div>\n",
       "<style scoped>\n",
       "    .dataframe tbody tr th:only-of-type {\n",
       "        vertical-align: middle;\n",
       "    }\n",
       "\n",
       "    .dataframe tbody tr th {\n",
       "        vertical-align: top;\n",
       "    }\n",
       "\n",
       "    .dataframe thead th {\n",
       "        text-align: right;\n",
       "    }\n",
       "</style>\n",
       "<table border=\"1\" class=\"dataframe\">\n",
       "  <thead>\n",
       "    <tr style=\"text-align: right;\">\n",
       "      <th></th>\n",
       "      <th>SEVERITYCODE</th>\n",
       "      <th>STATUS</th>\n",
       "      <th>ADDRTYPE</th>\n",
       "      <th>COLLISIONTYPE</th>\n",
       "      <th>PERSONCOUNT</th>\n",
       "      <th>PEDCOUNT</th>\n",
       "      <th>PEDCYLCOUNT</th>\n",
       "      <th>VEHCOUNT</th>\n",
       "      <th>JUNCTIONTYPE</th>\n",
       "      <th>SDOT_COLCODE</th>\n",
       "      <th>INATTENTIONIND</th>\n",
       "      <th>UNDERINFL</th>\n",
       "      <th>WEATHER</th>\n",
       "      <th>ROADCOND</th>\n",
       "      <th>LIGHTCOND</th>\n",
       "      <th>PEDROWNOTGRNT</th>\n",
       "      <th>SPEEDING</th>\n",
       "      <th>ST_COLCODE</th>\n",
       "      <th>HITPARKEDCAR</th>\n",
       "    </tr>\n",
       "  </thead>\n",
       "  <tbody>\n",
       "    <tr>\n",
       "      <th>0</th>\n",
       "      <td>1</td>\n",
       "      <td>Matched</td>\n",
       "      <td>Intersection</td>\n",
       "      <td>Angles</td>\n",
       "      <td>2</td>\n",
       "      <td>0</td>\n",
       "      <td>0</td>\n",
       "      <td>2</td>\n",
       "      <td>At Intersection (intersection related)</td>\n",
       "      <td>11</td>\n",
       "      <td>0</td>\n",
       "      <td>0</td>\n",
       "      <td>Overcast</td>\n",
       "      <td>Wet</td>\n",
       "      <td>Daylight</td>\n",
       "      <td>0</td>\n",
       "      <td>0</td>\n",
       "      <td>10</td>\n",
       "      <td>0</td>\n",
       "    </tr>\n",
       "    <tr>\n",
       "      <th>1</th>\n",
       "      <td>0</td>\n",
       "      <td>Matched</td>\n",
       "      <td>Block</td>\n",
       "      <td>Sideswipe</td>\n",
       "      <td>2</td>\n",
       "      <td>0</td>\n",
       "      <td>0</td>\n",
       "      <td>2</td>\n",
       "      <td>Mid-Block (not related to intersection)</td>\n",
       "      <td>16</td>\n",
       "      <td>0</td>\n",
       "      <td>0</td>\n",
       "      <td>Raining</td>\n",
       "      <td>Wet</td>\n",
       "      <td>Dark - Street Lights On</td>\n",
       "      <td>0</td>\n",
       "      <td>0</td>\n",
       "      <td>11</td>\n",
       "      <td>0</td>\n",
       "    </tr>\n",
       "    <tr>\n",
       "      <th>2</th>\n",
       "      <td>0</td>\n",
       "      <td>Matched</td>\n",
       "      <td>Block</td>\n",
       "      <td>Parked Car</td>\n",
       "      <td>4</td>\n",
       "      <td>0</td>\n",
       "      <td>0</td>\n",
       "      <td>3</td>\n",
       "      <td>Mid-Block (not related to intersection)</td>\n",
       "      <td>14</td>\n",
       "      <td>0</td>\n",
       "      <td>0</td>\n",
       "      <td>Overcast</td>\n",
       "      <td>Dry</td>\n",
       "      <td>Daylight</td>\n",
       "      <td>0</td>\n",
       "      <td>0</td>\n",
       "      <td>32</td>\n",
       "      <td>0</td>\n",
       "    </tr>\n",
       "    <tr>\n",
       "      <th>3</th>\n",
       "      <td>0</td>\n",
       "      <td>Matched</td>\n",
       "      <td>Block</td>\n",
       "      <td>Other</td>\n",
       "      <td>3</td>\n",
       "      <td>0</td>\n",
       "      <td>0</td>\n",
       "      <td>3</td>\n",
       "      <td>Mid-Block (not related to intersection)</td>\n",
       "      <td>11</td>\n",
       "      <td>0</td>\n",
       "      <td>0</td>\n",
       "      <td>Clear</td>\n",
       "      <td>Dry</td>\n",
       "      <td>Daylight</td>\n",
       "      <td>0</td>\n",
       "      <td>0</td>\n",
       "      <td>23</td>\n",
       "      <td>0</td>\n",
       "    </tr>\n",
       "    <tr>\n",
       "      <th>4</th>\n",
       "      <td>1</td>\n",
       "      <td>Matched</td>\n",
       "      <td>Intersection</td>\n",
       "      <td>Angles</td>\n",
       "      <td>2</td>\n",
       "      <td>0</td>\n",
       "      <td>0</td>\n",
       "      <td>2</td>\n",
       "      <td>At Intersection (intersection related)</td>\n",
       "      <td>11</td>\n",
       "      <td>0</td>\n",
       "      <td>0</td>\n",
       "      <td>Raining</td>\n",
       "      <td>Wet</td>\n",
       "      <td>Daylight</td>\n",
       "      <td>0</td>\n",
       "      <td>0</td>\n",
       "      <td>10</td>\n",
       "      <td>0</td>\n",
       "    </tr>\n",
       "  </tbody>\n",
       "</table>\n",
       "</div>"
      ],
      "text/plain": [
       "   SEVERITYCODE   STATUS      ADDRTYPE COLLISIONTYPE  PERSONCOUNT  PEDCOUNT  \\\n",
       "0             1  Matched  Intersection        Angles            2         0   \n",
       "1             0  Matched         Block     Sideswipe            2         0   \n",
       "2             0  Matched         Block    Parked Car            4         0   \n",
       "3             0  Matched         Block         Other            3         0   \n",
       "4             1  Matched  Intersection        Angles            2         0   \n",
       "\n",
       "   PEDCYLCOUNT  VEHCOUNT                             JUNCTIONTYPE  \\\n",
       "0            0         2   At Intersection (intersection related)   \n",
       "1            0         2  Mid-Block (not related to intersection)   \n",
       "2            0         3  Mid-Block (not related to intersection)   \n",
       "3            0         3  Mid-Block (not related to intersection)   \n",
       "4            0         2   At Intersection (intersection related)   \n",
       "\n",
       "   SDOT_COLCODE  INATTENTIONIND  UNDERINFL   WEATHER ROADCOND  \\\n",
       "0            11               0          0  Overcast      Wet   \n",
       "1            16               0          0   Raining      Wet   \n",
       "2            14               0          0  Overcast      Dry   \n",
       "3            11               0          0     Clear      Dry   \n",
       "4            11               0          0   Raining      Wet   \n",
       "\n",
       "                 LIGHTCOND  PEDROWNOTGRNT  SPEEDING ST_COLCODE  HITPARKEDCAR  \n",
       "0                 Daylight              0         0         10             0  \n",
       "1  Dark - Street Lights On              0         0         11             0  \n",
       "2                 Daylight              0         0         32             0  \n",
       "3                 Daylight              0         0         23             0  \n",
       "4                 Daylight              0         0         10             0  "
      ]
     },
     "execution_count": 26,
     "metadata": {},
     "output_type": "execute_result"
    }
   ],
   "source": [
    "df2.head()"
   ]
  },
  {
   "cell_type": "code",
   "execution_count": 27,
   "metadata": {},
   "outputs": [
    {
     "data": {
      "text/plain": [
       "SEVERITYCODE\n",
       "0    126518\n",
       "1     56656\n",
       "dtype: int64"
      ]
     },
     "execution_count": 27,
     "metadata": {},
     "output_type": "execute_result"
    }
   ],
   "source": [
    "#Shows Imbalanced Dataset\n",
    "df2.groupby('SEVERITYCODE').size()"
   ]
  },
  {
   "cell_type": "code",
   "execution_count": 28,
   "metadata": {},
   "outputs": [
    {
     "name": "stdout",
     "output_type": "stream",
     "text": [
      "\n",
      "n_df2_major:  126518\n",
      "\n",
      "n_df2_minor:  56656\n"
     ]
    }
   ],
   "source": [
    " #Address imbalanced dataset by Downsampling Majority Class To Match Minority Class\n",
    "from sklearn.utils import resample\n",
    "\n",
    "df2_major = df2[df2.SEVERITYCODE == 0]\n",
    "df2_minor = df2[df2.SEVERITYCODE == 1]\n",
    "# Number of observations in each class\n",
    "n_df2_major = len(df2_major); print(); print(\"n_df2_major: \", n_df2_major)\n",
    "n_df2_minor = len(df2_minor); print(); print(\"n_df2_minor: \", n_df2_minor)"
   ]
  },
  {
   "cell_type": "code",
   "execution_count": 29,
   "metadata": {},
   "outputs": [
    {
     "data": {
      "text/plain": [
       "1    56656\n",
       "0    56656\n",
       "Name: SEVERITYCODE, dtype: int64"
      ]
     },
     "execution_count": 29,
     "metadata": {},
     "output_type": "execute_result"
    }
   ],
   "source": [
    "# For every observation of class 0, randomly sample from class 1 without replacement\n",
    "df2_major_downsampled = resample(df2_major, \n",
    "                                 replace=False,    # sample without replacement\n",
    "                                 n_samples=56656,     # to match minority class\n",
    "                                 random_state=100) # reproducible results\n",
    " \n",
    "# Combine minority class with downsampled majority class\n",
    "df3 = pd.concat([df2_major_downsampled, df2_minor])\n",
    " \n",
    "# Display new class counts\n",
    "df3.SEVERITYCODE.value_counts()"
   ]
  },
  {
   "cell_type": "code",
   "execution_count": 30,
   "metadata": {},
   "outputs": [],
   "source": [
    "#Separate out all relevant independent variables and create a couple feature sets to normalize\n",
    "fdf3 = df3[['PERSONCOUNT', 'PEDCOUNT', 'PEDCYLCOUNT', 'VEHCOUNT', 'INATTENTIONIND', 'UNDERINFL','PEDROWNOTGRNT', 'SPEEDING', 'HITPARKEDCAR']]"
   ]
  },
  {
   "cell_type": "code",
   "execution_count": 31,
   "metadata": {},
   "outputs": [],
   "source": [
    "#Use one hot encoding technique to conver categorical varables to binary variables and append them to the feature dataframe\n",
    "fdf3 = pd.concat([fdf3, pd.get_dummies(df3[['ADDRTYPE', 'COLLISIONTYPE', 'JUNCTIONTYPE', 'WEATHER','ROADCOND', 'LIGHTCOND', 'SDOT_COLCODE', 'ST_COLCODE']])], axis = 1)"
   ]
  },
  {
   "cell_type": "code",
   "execution_count": 32,
   "metadata": {},
   "outputs": [
    {
     "data": {
      "text/plain": [
       "array([[ 3.14171085e-01, -2.39448134e-01, -2.15199264e-01,\n",
       "         1.71932565e+00, -4.45701926e-01, -2.35539736e-01,\n",
       "        -2.00806307e-01,  4.21539886e+00, -1.58912301e-01,\n",
       "        -1.10659252e-01, -3.24237838e-02,  7.94295126e-01,\n",
       "        -7.90384625e-01, -5.04293154e-01, -2.14900569e-01,\n",
       "        -1.11198435e-01, -2.96384776e-01, -3.68263982e-01,\n",
       "        -4.72911490e-01, -2.39561571e-01,  1.97242536e+00,\n",
       "        -1.20282340e-01, -3.04658682e-01, -1.07310741e-01,\n",
       "        -7.71435290e-01, -2.45981870e-01, -3.75444249e-01,\n",
       "         1.14198062e+00, -3.00163369e-02, -5.14550997e-03,\n",
       "        -1.65425444e-02,  8.07208660e-01, -5.77002536e-02,\n",
       "        -4.19083297e-01, -6.64288343e-03, -4.74308032e-01,\n",
       "        -8.91252067e-03, -2.35859344e-02, -6.63064062e-02,\n",
       "        -2.36165190e-01,  6.91176977e-01, -7.81589552e-02,\n",
       "        -1.90253459e-02, -2.01525095e-02, -6.80299189e-02,\n",
       "        -2.46841890e-02, -2.28335311e-01, -5.95330519e-01,\n",
       "        -8.63169208e-02, -7.81017862e-02, -5.89308336e-01,\n",
       "        -5.94154935e-03, -1.19828478e-01,  7.53489422e-01,\n",
       "        -1.81299944e-01, -2.16826201e-01, -8.61611279e-02,\n",
       "        -5.67690229e-02, -7.37513893e-02, -2.70744854e-02,\n",
       "        -1.32866464e-02, -2.64690930e-01, -1.38378506e-01,\n",
       "        -6.41227378e-02, -1.17842694e-01, -2.39952613e-01,\n",
       "        -7.26547098e-02, -6.78988663e-02, -3.44089477e-02,\n",
       "        -6.61720023e-02, -7.18524761e-02, -8.14626649e-02,\n",
       "        -8.47464858e-02, -3.76035523e-02, -1.51495088e-02,\n",
       "        -4.42060911e-02, -2.07995534e-02, -1.45433192e-01,\n",
       "        -2.20368146e-02, -4.76784002e-02, -5.14550997e-03,\n",
       "        -2.61373209e-01, -1.15063194e-02, -8.91252067e-03,\n",
       "        -5.14550997e-03, -1.14526706e-01, -5.14550997e-03,\n",
       "        -1.50140861e-01, -2.39576009e-02, -4.88722086e-02,\n",
       "        -7.27694632e-03, -5.14550997e-03, -1.42485295e-02,\n",
       "        -1.48552500e-02, -6.64288343e-03, -4.20127276e-03,\n",
       "        -4.20127276e-03, -4.08747816e-02, -1.18837280e-02,\n",
       "        -1.62734702e-02, -3.17346015e-02, -3.42801643e-02,\n",
       "        -7.86003505e-03, -1.02914287e-02, -1.36148212e-02,\n",
       "        -2.97073535e-03, -1.27622803e-01, -8.20097605e-02,\n",
       "        -3.98897280e-01, -2.02677749e-01, -8.19552109e-02,\n",
       "         5.59390928e+00, -3.35922584e-01, -1.03588746e-01,\n",
       "        -9.88275172e-02, -7.27694632e-03, -5.14550997e-03,\n",
       "        -4.27803438e-02, -1.13932047e-01, -9.37869023e-02,\n",
       "        -6.28616625e-02, -7.23471892e-02, -1.20772208e-01,\n",
       "        -5.24613003e-02, -2.33978924e-02, -5.92951858e-02,\n",
       "        -2.85057412e-02, -2.11325182e-01, -3.05997734e-02,\n",
       "        -3.38908916e-02, -7.09786032e-02, -1.22495205e-02,\n",
       "        -3.38373697e-01, -2.65803322e-02, -1.75777447e-02,\n",
       "        -1.26047082e-02, -5.14550997e-03, -1.61433623e-01,\n",
       "        -7.27694632e-03, -2.97073535e-03, -5.78540204e-02,\n",
       "        -2.16156070e-01, -3.47924516e-02, -6.06293410e-02,\n",
       "        -1.15063194e-02, -5.14550997e-03, -1.15063194e-02,\n",
       "        -1.94840257e-02, -4.60710472e-02, -9.39466313e-03,\n",
       "        -2.97073535e-03, -5.14550997e-03, -2.97073535e-03,\n",
       "        -1.26047082e-02, -5.81603508e-02, -1.48552500e-02,\n",
       "        -2.46841890e-02, -3.32320193e-02, -1.36148212e-02,\n",
       "        -4.98602412e-02, -1.02914287e-02, -1.90253459e-02,\n",
       "        -1.83158332e-02, -2.97073535e-03, -2.97073535e-03,\n",
       "        -6.64288343e-03],\n",
       "       [-3.80626697e-01, -2.39448134e-01, -2.15199264e-01,\n",
       "         7.49816896e-02, -4.45701926e-01, -2.35539736e-01,\n",
       "        -2.00806307e-01, -2.37225476e-01, -1.58912301e-01,\n",
       "         1.71078517e-01, -3.24237838e-02,  7.94295126e-01,\n",
       "        -7.90384625e-01, -5.04293154e-01, -2.14900569e-01,\n",
       "        -1.11198435e-01, -2.96384776e-01, -3.68263982e-01,\n",
       "         2.11456059e+00, -2.39561571e-01, -5.06990034e-01,\n",
       "        -1.20282340e-01, -3.04658682e-01, -1.07310741e-01,\n",
       "        -7.71435290e-01, -2.45981870e-01, -3.75444249e-01,\n",
       "         1.14198062e+00, -3.00163369e-02, -5.14550997e-03,\n",
       "        -1.65425444e-02,  8.07208660e-01, -5.77002536e-02,\n",
       "        -4.19083297e-01, -6.64288343e-03, -4.74308032e-01,\n",
       "        -8.91252067e-03, -2.35859344e-02, -6.63064062e-02,\n",
       "        -2.36165190e-01,  6.91176977e-01, -7.81589552e-02,\n",
       "        -1.90253459e-02, -2.01525095e-02, -6.80299189e-02,\n",
       "        -2.46841890e-02, -2.28335311e-01, -5.95330519e-01,\n",
       "        -8.63169208e-02, -7.81017862e-02,  1.69690456e+00,\n",
       "        -5.94154935e-03, -1.19828478e-01, -1.32715864e+00,\n",
       "        -1.81299944e-01, -2.16826201e-01, -8.61611279e-02,\n",
       "        -5.67690229e-02, -7.37513893e-02, -2.70744854e-02,\n",
       "        -1.32866464e-02, -2.64690930e-01, -1.38378506e-01,\n",
       "        -6.41227378e-02, -1.17842694e-01, -2.39952613e-01,\n",
       "        -7.26547098e-02, -6.78988663e-02, -3.44089477e-02,\n",
       "        -6.61720023e-02, -7.18524761e-02, -8.14626649e-02,\n",
       "        -8.47464858e-02, -3.76035523e-02, -1.51495088e-02,\n",
       "        -4.42060911e-02, -2.07995534e-02, -1.45433192e-01,\n",
       "        -2.20368146e-02, -4.76784002e-02, -5.14550997e-03,\n",
       "         3.82594683e+00, -1.15063194e-02, -8.91252067e-03,\n",
       "        -5.14550997e-03, -1.14526706e-01, -5.14550997e-03,\n",
       "        -1.50140861e-01, -2.39576009e-02, -4.88722086e-02,\n",
       "        -7.27694632e-03, -5.14550997e-03, -1.42485295e-02,\n",
       "        -1.48552500e-02, -6.64288343e-03, -4.20127276e-03,\n",
       "        -4.20127276e-03, -4.08747816e-02, -1.18837280e-02,\n",
       "        -1.62734702e-02, -3.17346015e-02, -3.42801643e-02,\n",
       "        -7.86003505e-03, -1.02914287e-02, -1.36148212e-02,\n",
       "        -2.97073535e-03, -1.27622803e-01, -8.20097605e-02,\n",
       "        -3.98897280e-01, -2.02677749e-01, -8.19552109e-02,\n",
       "        -1.78765859e-01, -3.35922584e-01, -1.03588746e-01,\n",
       "        -9.88275172e-02, -7.27694632e-03, -5.14550997e-03,\n",
       "        -4.27803438e-02, -1.13932047e-01, -9.37869023e-02,\n",
       "        -6.28616625e-02, -7.23471892e-02, -1.20772208e-01,\n",
       "        -5.24613003e-02, -2.33978924e-02, -5.92951858e-02,\n",
       "        -2.85057412e-02, -2.11325182e-01, -3.05997734e-02,\n",
       "        -3.38908916e-02, -7.09786032e-02, -1.22495205e-02,\n",
       "        -3.38373697e-01, -2.65803322e-02, -1.75777447e-02,\n",
       "        -1.26047082e-02, -5.14550997e-03, -1.61433623e-01,\n",
       "        -7.27694632e-03, -2.97073535e-03, -5.78540204e-02,\n",
       "        -2.16156070e-01, -3.47924516e-02, -6.06293410e-02,\n",
       "        -1.15063194e-02, -5.14550997e-03, -1.15063194e-02,\n",
       "        -1.94840257e-02, -4.60710472e-02, -9.39466313e-03,\n",
       "        -2.97073535e-03, -5.14550997e-03, -2.97073535e-03,\n",
       "        -1.26047082e-02, -5.81603508e-02, -1.48552500e-02,\n",
       "        -2.46841890e-02, -3.32320193e-02, -1.36148212e-02,\n",
       "        -4.98602412e-02, -1.02914287e-02, -1.90253459e-02,\n",
       "        -1.83158332e-02, -2.97073535e-03, -2.97073535e-03,\n",
       "        -6.64288343e-03],\n",
       "       [-3.80626697e-01, -2.39448134e-01, -2.15199264e-01,\n",
       "         7.49816896e-02, -4.45701926e-01, -2.35539736e-01,\n",
       "        -2.00806307e-01, -2.37225476e-01, -1.58912301e-01,\n",
       "        -1.10659252e-01, -3.24237838e-02,  7.94295126e-01,\n",
       "        -7.90384625e-01, -5.04293154e-01, -2.14900569e-01,\n",
       "        -1.11198435e-01, -2.96384776e-01, -3.68263982e-01,\n",
       "         2.11456059e+00, -2.39561571e-01, -5.06990034e-01,\n",
       "        -1.20282340e-01, -3.04658682e-01, -1.07310741e-01,\n",
       "        -7.71435290e-01, -2.45981870e-01, -3.75444249e-01,\n",
       "         1.14198062e+00, -3.00163369e-02, -5.14550997e-03,\n",
       "        -1.65425444e-02,  8.07208660e-01, -5.77002536e-02,\n",
       "        -4.19083297e-01, -6.64288343e-03, -4.74308032e-01,\n",
       "        -8.91252067e-03, -2.35859344e-02, -6.63064062e-02,\n",
       "        -2.36165190e-01,  6.91176977e-01, -7.81589552e-02,\n",
       "        -1.90253459e-02, -2.01525095e-02, -6.80299189e-02,\n",
       "        -2.46841890e-02, -2.28335311e-01, -5.95330519e-01,\n",
       "        -8.63169208e-02, -7.81017862e-02,  1.69690456e+00,\n",
       "        -5.94154935e-03, -1.19828478e-01, -1.32715864e+00,\n",
       "        -1.81299944e-01, -2.16826201e-01, -8.61611279e-02,\n",
       "        -5.67690229e-02, -7.37513893e-02, -2.70744854e-02,\n",
       "        -1.32866464e-02, -2.64690930e-01, -1.38378506e-01,\n",
       "        -6.41227378e-02, -1.17842694e-01, -2.39952613e-01,\n",
       "        -7.26547098e-02, -6.78988663e-02, -3.44089477e-02,\n",
       "        -6.61720023e-02, -7.18524761e-02, -8.14626649e-02,\n",
       "        -8.47464858e-02, -3.76035523e-02, -1.51495088e-02,\n",
       "        -4.42060911e-02, -2.07995534e-02, -1.45433192e-01,\n",
       "        -2.20368146e-02, -4.76784002e-02, -5.14550997e-03,\n",
       "         3.82594683e+00, -1.15063194e-02, -8.91252067e-03,\n",
       "        -5.14550997e-03, -1.14526706e-01, -5.14550997e-03,\n",
       "        -1.50140861e-01, -2.39576009e-02, -4.88722086e-02,\n",
       "        -7.27694632e-03, -5.14550997e-03, -1.42485295e-02,\n",
       "        -1.48552500e-02, -6.64288343e-03, -4.20127276e-03,\n",
       "        -4.20127276e-03, -4.08747816e-02, -1.18837280e-02,\n",
       "        -1.62734702e-02, -3.17346015e-02, -3.42801643e-02,\n",
       "        -7.86003505e-03, -1.02914287e-02, -1.36148212e-02,\n",
       "        -2.97073535e-03, -1.27622803e-01, -8.20097605e-02,\n",
       "        -3.98897280e-01, -2.02677749e-01, -8.19552109e-02,\n",
       "        -1.78765859e-01, -3.35922584e-01, -1.03588746e-01,\n",
       "        -9.88275172e-02, -7.27694632e-03, -5.14550997e-03,\n",
       "        -4.27803438e-02, -1.13932047e-01, -9.37869023e-02,\n",
       "        -6.28616625e-02, -7.23471892e-02, -1.20772208e-01,\n",
       "        -5.24613003e-02, -2.33978924e-02, -5.92951858e-02,\n",
       "        -2.85057412e-02, -2.11325182e-01, -3.05997734e-02,\n",
       "        -3.38908916e-02, -7.09786032e-02, -1.22495205e-02,\n",
       "        -3.38373697e-01, -2.65803322e-02, -1.75777447e-02,\n",
       "        -1.26047082e-02, -5.14550997e-03, -1.61433623e-01,\n",
       "        -7.27694632e-03, -2.97073535e-03, -5.78540204e-02,\n",
       "        -2.16156070e-01, -3.47924516e-02, -6.06293410e-02,\n",
       "        -1.15063194e-02, -5.14550997e-03, -1.15063194e-02,\n",
       "        -1.94840257e-02, -4.60710472e-02, -9.39466313e-03,\n",
       "        -2.97073535e-03, -5.14550997e-03, -2.97073535e-03,\n",
       "        -1.26047082e-02, -5.81603508e-02, -1.48552500e-02,\n",
       "        -2.46841890e-02, -3.32320193e-02, -1.36148212e-02,\n",
       "        -4.98602412e-02, -1.02914287e-02, -1.90253459e-02,\n",
       "        -1.83158332e-02, -2.97073535e-03, -2.97073535e-03,\n",
       "        -6.64288343e-03],\n",
       "       [ 1.70376665e+00, -2.39448134e-01, -2.15199264e-01,\n",
       "         7.49816896e-02, -4.45701926e-01, -2.35539736e-01,\n",
       "        -2.00806307e-01, -2.37225476e-01, -1.58912301e-01,\n",
       "        -5.33265906e-01, -3.24237838e-02,  7.94295126e-01,\n",
       "        -7.90384625e-01, -5.04293154e-01, -2.14900569e-01,\n",
       "        -1.11198435e-01, -2.96384776e-01, -3.68263982e-01,\n",
       "        -4.72911490e-01, -2.39561571e-01, -5.06990034e-01,\n",
       "        -1.20282340e-01,  3.28236174e+00, -1.07310741e-01,\n",
       "        -7.71435290e-01, -2.45981870e-01, -3.75444249e-01,\n",
       "         1.14198062e+00, -3.00163369e-02, -5.14550997e-03,\n",
       "        -1.65425444e-02,  8.07208660e-01, -5.77002536e-02,\n",
       "        -4.19083297e-01, -6.64288343e-03, -4.74308032e-01,\n",
       "        -8.91252067e-03, -2.35859344e-02, -6.63064062e-02,\n",
       "        -2.36165190e-01,  6.91176977e-01, -7.81589552e-02,\n",
       "        -1.90253459e-02, -2.01525095e-02, -6.80299189e-02,\n",
       "        -2.46841890e-02, -2.28335311e-01, -5.95330519e-01,\n",
       "        -8.63169208e-02, -7.81017862e-02, -5.89308336e-01,\n",
       "        -5.94154935e-03, -1.19828478e-01,  7.53489422e-01,\n",
       "        -1.81299944e-01, -2.16826201e-01, -8.61611279e-02,\n",
       "        -5.67690229e-02, -7.37513893e-02, -2.70744854e-02,\n",
       "        -1.32866464e-02, -2.64690930e-01, -1.38378506e-01,\n",
       "        -6.41227378e-02, -1.17842694e-01, -2.39952613e-01,\n",
       "        -7.26547098e-02, -6.78988663e-02, -3.44089477e-02,\n",
       "        -6.61720023e-02, -7.18524761e-02, -8.14626649e-02,\n",
       "        -8.47464858e-02, -3.76035523e-02, -1.51495088e-02,\n",
       "        -4.42060911e-02, -2.07995534e-02, -1.45433192e-01,\n",
       "        -2.20368146e-02, -4.76784002e-02, -5.14550997e-03,\n",
       "        -2.61373209e-01, -1.15063194e-02, -8.91252067e-03,\n",
       "        -5.14550997e-03, -1.14526706e-01, -5.14550997e-03,\n",
       "        -1.50140861e-01, -2.39576009e-02, -4.88722086e-02,\n",
       "        -7.27694632e-03, -5.14550997e-03, -1.42485295e-02,\n",
       "        -1.48552500e-02, -6.64288343e-03, -4.20127276e-03,\n",
       "        -4.20127276e-03, -4.08747816e-02, -1.18837280e-02,\n",
       "        -1.62734702e-02, -3.17346015e-02, -3.42801643e-02,\n",
       "        -7.86003505e-03, -1.02914287e-02, -1.36148212e-02,\n",
       "        -2.97073535e-03, -1.27622803e-01, -8.20097605e-02,\n",
       "        -3.98897280e-01, -2.02677749e-01,  1.22017867e+01,\n",
       "        -1.78765859e-01, -3.35922584e-01, -1.03588746e-01,\n",
       "        -9.88275172e-02, -7.27694632e-03, -5.14550997e-03,\n",
       "        -4.27803438e-02, -1.13932047e-01, -9.37869023e-02,\n",
       "        -6.28616625e-02, -7.23471892e-02, -1.20772208e-01,\n",
       "        -5.24613003e-02, -2.33978924e-02, -5.92951858e-02,\n",
       "        -2.85057412e-02, -2.11325182e-01, -3.05997734e-02,\n",
       "        -3.38908916e-02, -7.09786032e-02, -1.22495205e-02,\n",
       "        -3.38373697e-01, -2.65803322e-02, -1.75777447e-02,\n",
       "        -1.26047082e-02, -5.14550997e-03, -1.61433623e-01,\n",
       "        -7.27694632e-03, -2.97073535e-03, -5.78540204e-02,\n",
       "        -2.16156070e-01, -3.47924516e-02, -6.06293410e-02,\n",
       "        -1.15063194e-02, -5.14550997e-03, -1.15063194e-02,\n",
       "        -1.94840257e-02, -4.60710472e-02, -9.39466313e-03,\n",
       "        -2.97073535e-03, -5.14550997e-03, -2.97073535e-03,\n",
       "        -1.26047082e-02, -5.81603508e-02, -1.48552500e-02,\n",
       "        -2.46841890e-02, -3.32320193e-02, -1.36148212e-02,\n",
       "        -4.98602412e-02, -1.02914287e-02, -1.90253459e-02,\n",
       "        -1.83158332e-02, -2.97073535e-03, -2.97073535e-03,\n",
       "        -6.64288343e-03],\n",
       "       [-3.80626697e-01, -2.39448134e-01, -2.15199264e-01,\n",
       "         7.49816896e-02, -4.45701926e-01, -2.35539736e-01,\n",
       "        -2.00806307e-01, -2.37225476e-01, -1.58912301e-01,\n",
       "        -5.33265906e-01, -3.24237838e-02, -1.25897789e+00,\n",
       "         1.26520680e+00,  1.98297358e+00, -2.14900569e-01,\n",
       "        -1.11198435e-01, -2.96384776e-01, -3.68263982e-01,\n",
       "        -4.72911490e-01, -2.39561571e-01, -5.06990034e-01,\n",
       "        -1.20282340e-01, -3.04658682e-01, -1.07310741e-01,\n",
       "         1.29628501e+00, -2.45981870e-01, -3.75444249e-01,\n",
       "        -8.75671606e-01, -3.00163369e-02, -5.14550997e-03,\n",
       "        -1.65425444e-02, -1.23883706e+00, -5.77002536e-02,\n",
       "        -4.19083297e-01, -6.64288343e-03,  2.10833453e+00,\n",
       "        -8.91252067e-03, -2.35859344e-02, -6.63064062e-02,\n",
       "        -2.36165190e-01, -1.44680745e+00, -7.81589552e-02,\n",
       "        -1.90253459e-02, -2.01525095e-02, -6.80299189e-02,\n",
       "        -2.46841890e-02, -2.28335311e-01,  1.67973918e+00,\n",
       "        -8.63169208e-02, -7.81017862e-02,  1.69690456e+00,\n",
       "        -5.94154935e-03, -1.19828478e-01, -1.32715864e+00,\n",
       "        -1.81299944e-01, -2.16826201e-01, -8.61611279e-02,\n",
       "        -5.67690229e-02, -7.37513893e-02, -2.70744854e-02,\n",
       "        -1.32866464e-02, -2.64690930e-01, -1.38378506e-01,\n",
       "        -6.41227378e-02, -1.17842694e-01, -2.39952613e-01,\n",
       "        -7.26547098e-02, -6.78988663e-02, -3.44089477e-02,\n",
       "        -6.61720023e-02, -7.18524761e-02, -8.14626649e-02,\n",
       "        -8.47464858e-02, -3.76035523e-02, -1.51495088e-02,\n",
       "        -4.42060911e-02, -2.07995534e-02, -1.45433192e-01,\n",
       "        -2.20368146e-02, -4.76784002e-02, -5.14550997e-03,\n",
       "        -2.61373209e-01, -1.15063194e-02, -8.91252067e-03,\n",
       "        -5.14550997e-03, -1.14526706e-01, -5.14550997e-03,\n",
       "        -1.50140861e-01, -2.39576009e-02, -4.88722086e-02,\n",
       "        -7.27694632e-03, -5.14550997e-03, -1.42485295e-02,\n",
       "        -1.48552500e-02, -6.64288343e-03, -4.20127276e-03,\n",
       "        -4.20127276e-03, -4.08747816e-02, -1.18837280e-02,\n",
       "        -1.62734702e-02, -3.17346015e-02, -3.42801643e-02,\n",
       "        -7.86003505e-03, -1.02914287e-02, -1.36148212e-02,\n",
       "        -2.97073535e-03, -1.27622803e-01, -8.20097605e-02,\n",
       "         2.50691105e+00, -2.02677749e-01, -8.19552109e-02,\n",
       "        -1.78765859e-01, -3.35922584e-01, -1.03588746e-01,\n",
       "        -9.88275172e-02, -7.27694632e-03, -5.14550997e-03,\n",
       "        -4.27803438e-02, -1.13932047e-01, -9.37869023e-02,\n",
       "        -6.28616625e-02, -7.23471892e-02, -1.20772208e-01,\n",
       "        -5.24613003e-02, -2.33978924e-02, -5.92951858e-02,\n",
       "        -2.85057412e-02, -2.11325182e-01, -3.05997734e-02,\n",
       "        -3.38908916e-02, -7.09786032e-02, -1.22495205e-02,\n",
       "        -3.38373697e-01, -2.65803322e-02, -1.75777447e-02,\n",
       "        -1.26047082e-02, -5.14550997e-03, -1.61433623e-01,\n",
       "        -7.27694632e-03, -2.97073535e-03, -5.78540204e-02,\n",
       "        -2.16156070e-01, -3.47924516e-02, -6.06293410e-02,\n",
       "        -1.15063194e-02, -5.14550997e-03, -1.15063194e-02,\n",
       "        -1.94840257e-02, -4.60710472e-02, -9.39466313e-03,\n",
       "        -2.97073535e-03, -5.14550997e-03, -2.97073535e-03,\n",
       "        -1.26047082e-02, -5.81603508e-02, -1.48552500e-02,\n",
       "        -2.46841890e-02, -3.32320193e-02, -1.36148212e-02,\n",
       "        -4.98602412e-02, -1.02914287e-02, -1.90253459e-02,\n",
       "        -1.83158332e-02, -2.97073535e-03, -2.97073535e-03,\n",
       "        -6.64288343e-03]])"
      ]
     },
     "execution_count": 32,
     "metadata": {},
     "output_type": "execute_result"
    }
   ],
   "source": [
    "X = preprocessing.StandardScaler().fit(fdf3).transform(fdf3)\n",
    "X[0:5]"
   ]
  },
  {
   "cell_type": "code",
   "execution_count": 33,
   "metadata": {},
   "outputs": [
    {
     "data": {
      "text/html": [
       "<div>\n",
       "<style scoped>\n",
       "    .dataframe tbody tr th:only-of-type {\n",
       "        vertical-align: middle;\n",
       "    }\n",
       "\n",
       "    .dataframe tbody tr th {\n",
       "        vertical-align: top;\n",
       "    }\n",
       "\n",
       "    .dataframe thead th {\n",
       "        text-align: right;\n",
       "    }\n",
       "</style>\n",
       "<table border=\"1\" class=\"dataframe\">\n",
       "  <thead>\n",
       "    <tr style=\"text-align: right;\">\n",
       "      <th></th>\n",
       "      <th>PERSONCOUNT</th>\n",
       "      <th>PEDCOUNT</th>\n",
       "      <th>PEDCYLCOUNT</th>\n",
       "      <th>VEHCOUNT</th>\n",
       "      <th>INATTENTIONIND</th>\n",
       "      <th>UNDERINFL</th>\n",
       "      <th>PEDROWNOTGRNT</th>\n",
       "      <th>SPEEDING</th>\n",
       "      <th>HITPARKEDCAR</th>\n",
       "      <th>SDOT_COLCODE</th>\n",
       "      <th>...</th>\n",
       "      <th>ST_COLCODE_73</th>\n",
       "      <th>ST_COLCODE_74</th>\n",
       "      <th>ST_COLCODE_8</th>\n",
       "      <th>ST_COLCODE_81</th>\n",
       "      <th>ST_COLCODE_82</th>\n",
       "      <th>ST_COLCODE_83</th>\n",
       "      <th>ST_COLCODE_84</th>\n",
       "      <th>ST_COLCODE_85</th>\n",
       "      <th>ST_COLCODE_87</th>\n",
       "      <th>ST_COLCODE_88</th>\n",
       "    </tr>\n",
       "  </thead>\n",
       "  <tbody>\n",
       "    <tr>\n",
       "      <th>180414</th>\n",
       "      <td>3</td>\n",
       "      <td>0</td>\n",
       "      <td>0</td>\n",
       "      <td>3</td>\n",
       "      <td>0</td>\n",
       "      <td>0</td>\n",
       "      <td>0</td>\n",
       "      <td>1</td>\n",
       "      <td>0</td>\n",
       "      <td>14</td>\n",
       "      <td>...</td>\n",
       "      <td>0</td>\n",
       "      <td>0</td>\n",
       "      <td>0</td>\n",
       "      <td>0</td>\n",
       "      <td>0</td>\n",
       "      <td>0</td>\n",
       "      <td>0</td>\n",
       "      <td>0</td>\n",
       "      <td>0</td>\n",
       "      <td>0</td>\n",
       "    </tr>\n",
       "    <tr>\n",
       "      <th>17083</th>\n",
       "      <td>2</td>\n",
       "      <td>0</td>\n",
       "      <td>0</td>\n",
       "      <td>2</td>\n",
       "      <td>0</td>\n",
       "      <td>0</td>\n",
       "      <td>0</td>\n",
       "      <td>0</td>\n",
       "      <td>0</td>\n",
       "      <td>16</td>\n",
       "      <td>...</td>\n",
       "      <td>0</td>\n",
       "      <td>0</td>\n",
       "      <td>0</td>\n",
       "      <td>0</td>\n",
       "      <td>0</td>\n",
       "      <td>0</td>\n",
       "      <td>0</td>\n",
       "      <td>0</td>\n",
       "      <td>0</td>\n",
       "      <td>0</td>\n",
       "    </tr>\n",
       "    <tr>\n",
       "      <th>25131</th>\n",
       "      <td>2</td>\n",
       "      <td>0</td>\n",
       "      <td>0</td>\n",
       "      <td>2</td>\n",
       "      <td>0</td>\n",
       "      <td>0</td>\n",
       "      <td>0</td>\n",
       "      <td>0</td>\n",
       "      <td>0</td>\n",
       "      <td>14</td>\n",
       "      <td>...</td>\n",
       "      <td>0</td>\n",
       "      <td>0</td>\n",
       "      <td>0</td>\n",
       "      <td>0</td>\n",
       "      <td>0</td>\n",
       "      <td>0</td>\n",
       "      <td>0</td>\n",
       "      <td>0</td>\n",
       "      <td>0</td>\n",
       "      <td>0</td>\n",
       "    </tr>\n",
       "    <tr>\n",
       "      <th>130792</th>\n",
       "      <td>5</td>\n",
       "      <td>0</td>\n",
       "      <td>0</td>\n",
       "      <td>2</td>\n",
       "      <td>0</td>\n",
       "      <td>0</td>\n",
       "      <td>0</td>\n",
       "      <td>0</td>\n",
       "      <td>0</td>\n",
       "      <td>11</td>\n",
       "      <td>...</td>\n",
       "      <td>0</td>\n",
       "      <td>0</td>\n",
       "      <td>0</td>\n",
       "      <td>0</td>\n",
       "      <td>0</td>\n",
       "      <td>0</td>\n",
       "      <td>0</td>\n",
       "      <td>0</td>\n",
       "      <td>0</td>\n",
       "      <td>0</td>\n",
       "    </tr>\n",
       "    <tr>\n",
       "      <th>33027</th>\n",
       "      <td>2</td>\n",
       "      <td>0</td>\n",
       "      <td>0</td>\n",
       "      <td>2</td>\n",
       "      <td>0</td>\n",
       "      <td>0</td>\n",
       "      <td>0</td>\n",
       "      <td>0</td>\n",
       "      <td>0</td>\n",
       "      <td>11</td>\n",
       "      <td>...</td>\n",
       "      <td>0</td>\n",
       "      <td>0</td>\n",
       "      <td>0</td>\n",
       "      <td>0</td>\n",
       "      <td>0</td>\n",
       "      <td>0</td>\n",
       "      <td>0</td>\n",
       "      <td>0</td>\n",
       "      <td>0</td>\n",
       "      <td>0</td>\n",
       "    </tr>\n",
       "  </tbody>\n",
       "</table>\n",
       "<p>5 rows × 166 columns</p>\n",
       "</div>"
      ],
      "text/plain": [
       "        PERSONCOUNT  PEDCOUNT  PEDCYLCOUNT  VEHCOUNT  INATTENTIONIND  \\\n",
       "180414            3         0            0         3               0   \n",
       "17083             2         0            0         2               0   \n",
       "25131             2         0            0         2               0   \n",
       "130792            5         0            0         2               0   \n",
       "33027             2         0            0         2               0   \n",
       "\n",
       "        UNDERINFL  PEDROWNOTGRNT  SPEEDING  HITPARKEDCAR  SDOT_COLCODE  ...  \\\n",
       "180414          0              0         1             0            14  ...   \n",
       "17083           0              0         0             0            16  ...   \n",
       "25131           0              0         0             0            14  ...   \n",
       "130792          0              0         0             0            11  ...   \n",
       "33027           0              0         0             0            11  ...   \n",
       "\n",
       "        ST_COLCODE_73  ST_COLCODE_74  ST_COLCODE_8  ST_COLCODE_81  \\\n",
       "180414              0              0             0              0   \n",
       "17083               0              0             0              0   \n",
       "25131               0              0             0              0   \n",
       "130792              0              0             0              0   \n",
       "33027               0              0             0              0   \n",
       "\n",
       "        ST_COLCODE_82  ST_COLCODE_83  ST_COLCODE_84  ST_COLCODE_85  \\\n",
       "180414              0              0              0              0   \n",
       "17083               0              0              0              0   \n",
       "25131               0              0              0              0   \n",
       "130792              0              0              0              0   \n",
       "33027               0              0              0              0   \n",
       "\n",
       "        ST_COLCODE_87  ST_COLCODE_88  \n",
       "180414              0              0  \n",
       "17083               0              0  \n",
       "25131               0              0  \n",
       "130792              0              0  \n",
       "33027               0              0  \n",
       "\n",
       "[5 rows x 166 columns]"
      ]
     },
     "execution_count": 33,
     "metadata": {},
     "output_type": "execute_result"
    }
   ],
   "source": [
    "fdf3.head()"
   ]
  },
  {
   "cell_type": "code",
   "execution_count": 34,
   "metadata": {},
   "outputs": [],
   "source": [
    "#Second set of independent variables are commonly known factors impacting collisions\n",
    "f2df3 = df3[['INATTENTIONIND', 'UNDERINFL', 'PEDROWNOTGRNT', 'SPEEDING', 'HITPARKEDCAR']]"
   ]
  },
  {
   "cell_type": "code",
   "execution_count": 35,
   "metadata": {},
   "outputs": [],
   "source": [
    "f2df3 = pd.concat([f2df3, pd.get_dummies(df3[['ADDRTYPE', 'JUNCTIONTYPE', 'WEATHER','ROADCOND', 'LIGHTCOND']])], axis = 1)"
   ]
  },
  {
   "cell_type": "code",
   "execution_count": 36,
   "metadata": {},
   "outputs": [
    {
     "data": {
      "text/plain": [
       "array([[-0.44570193, -0.23553974, -0.20080631,  4.21539886, -0.1589123 ,\n",
       "        -0.03242378,  0.79429513, -0.79038463, -0.10731074, -0.77143529,\n",
       "        -0.24598187, -0.37544425,  1.14198062, -0.03001634, -0.00514551,\n",
       "        -0.01654254,  0.80720866, -0.05770025, -0.4190833 , -0.00664288,\n",
       "        -0.47430803, -0.00891252, -0.02358593, -0.06630641, -0.23616519,\n",
       "         0.69117698, -0.07815896, -0.01902535, -0.02015251, -0.06802992,\n",
       "        -0.02468419, -0.22833531, -0.59533052, -0.08631692, -0.07810179,\n",
       "        -0.58930834, -0.00594155, -0.11982848,  0.75348942, -0.18129994,\n",
       "        -0.2168262 ],\n",
       "       [-0.44570193, -0.23553974, -0.20080631, -0.23722548, -0.1589123 ,\n",
       "        -0.03242378,  0.79429513, -0.79038463, -0.10731074, -0.77143529,\n",
       "        -0.24598187, -0.37544425,  1.14198062, -0.03001634, -0.00514551,\n",
       "        -0.01654254,  0.80720866, -0.05770025, -0.4190833 , -0.00664288,\n",
       "        -0.47430803, -0.00891252, -0.02358593, -0.06630641, -0.23616519,\n",
       "         0.69117698, -0.07815896, -0.01902535, -0.02015251, -0.06802992,\n",
       "        -0.02468419, -0.22833531, -0.59533052, -0.08631692, -0.07810179,\n",
       "         1.69690456, -0.00594155, -0.11982848, -1.32715864, -0.18129994,\n",
       "        -0.2168262 ],\n",
       "       [-0.44570193, -0.23553974, -0.20080631, -0.23722548, -0.1589123 ,\n",
       "        -0.03242378,  0.79429513, -0.79038463, -0.10731074, -0.77143529,\n",
       "        -0.24598187, -0.37544425,  1.14198062, -0.03001634, -0.00514551,\n",
       "        -0.01654254,  0.80720866, -0.05770025, -0.4190833 , -0.00664288,\n",
       "        -0.47430803, -0.00891252, -0.02358593, -0.06630641, -0.23616519,\n",
       "         0.69117698, -0.07815896, -0.01902535, -0.02015251, -0.06802992,\n",
       "        -0.02468419, -0.22833531, -0.59533052, -0.08631692, -0.07810179,\n",
       "         1.69690456, -0.00594155, -0.11982848, -1.32715864, -0.18129994,\n",
       "        -0.2168262 ],\n",
       "       [-0.44570193, -0.23553974, -0.20080631, -0.23722548, -0.1589123 ,\n",
       "        -0.03242378,  0.79429513, -0.79038463, -0.10731074, -0.77143529,\n",
       "        -0.24598187, -0.37544425,  1.14198062, -0.03001634, -0.00514551,\n",
       "        -0.01654254,  0.80720866, -0.05770025, -0.4190833 , -0.00664288,\n",
       "        -0.47430803, -0.00891252, -0.02358593, -0.06630641, -0.23616519,\n",
       "         0.69117698, -0.07815896, -0.01902535, -0.02015251, -0.06802992,\n",
       "        -0.02468419, -0.22833531, -0.59533052, -0.08631692, -0.07810179,\n",
       "        -0.58930834, -0.00594155, -0.11982848,  0.75348942, -0.18129994,\n",
       "        -0.2168262 ],\n",
       "       [-0.44570193, -0.23553974, -0.20080631, -0.23722548, -0.1589123 ,\n",
       "        -0.03242378, -1.25897789,  1.2652068 , -0.10731074,  1.29628501,\n",
       "        -0.24598187, -0.37544425, -0.87567161, -0.03001634, -0.00514551,\n",
       "        -0.01654254, -1.23883706, -0.05770025, -0.4190833 , -0.00664288,\n",
       "         2.10833453, -0.00891252, -0.02358593, -0.06630641, -0.23616519,\n",
       "        -1.44680745, -0.07815896, -0.01902535, -0.02015251, -0.06802992,\n",
       "        -0.02468419, -0.22833531,  1.67973918, -0.08631692, -0.07810179,\n",
       "         1.69690456, -0.00594155, -0.11982848, -1.32715864, -0.18129994,\n",
       "        -0.2168262 ]])"
      ]
     },
     "execution_count": 36,
     "metadata": {},
     "output_type": "execute_result"
    }
   ],
   "source": [
    "X2 = preprocessing.StandardScaler().fit(f2df3).transform(f2df3)\n",
    "X2[0:5]"
   ]
  },
  {
   "cell_type": "code",
   "execution_count": 37,
   "metadata": {},
   "outputs": [
    {
     "data": {
      "text/plain": [
       "array([0, 0, 0, 0, 0], dtype=int64)"
      ]
     },
     "execution_count": 37,
     "metadata": {},
     "output_type": "execute_result"
    }
   ],
   "source": [
    "y = df3['SEVERITYCODE'].values\n",
    "y[0:5]"
   ]
  },
  {
   "cell_type": "markdown",
   "metadata": {},
   "source": [
    "## DATA MODELING"
   ]
  },
  {
   "cell_type": "code",
   "execution_count": 38,
   "metadata": {},
   "outputs": [
    {
     "name": "stdout",
     "output_type": "stream",
     "text": [
      "Train set: (90649, 166) (90649,)\n",
      "Test set: (22663, 166) (22663,)\n"
     ]
    }
   ],
   "source": [
    "# Train test split for first set of features\n",
    "from sklearn.model_selection import train_test_split\n",
    "X_train, X_test, y_train, y_test = train_test_split(X, y, test_size=0.2, random_state=4)\n",
    "print ('Train set:', X_train.shape,  y_train.shape)\n",
    "print ('Test set:', X_test.shape,  y_test.shape)"
   ]
  },
  {
   "cell_type": "code",
   "execution_count": 39,
   "metadata": {},
   "outputs": [
    {
     "name": "stdout",
     "output_type": "stream",
     "text": [
      "Train set: (90649, 41) (90649,)\n",
      "Test set: (22663, 41) (22663,)\n"
     ]
    }
   ],
   "source": [
    "# Train test split for second set of features\n",
    "from sklearn.model_selection import train_test_split\n",
    "X2_train, X2_test, y_train, y_test = train_test_split(X2, y, test_size=0.2, random_state=4)\n",
    "print ('Train set:', X2_train.shape,  y_train.shape)\n",
    "print ('Test set:', X2_test.shape,  y_test.shape)"
   ]
  },
  {
   "cell_type": "markdown",
   "metadata": {},
   "source": [
    "###### DECISION TREE MODEL"
   ]
  },
  {
   "cell_type": "code",
   "execution_count": 40,
   "metadata": {},
   "outputs": [
    {
     "data": {
      "text/plain": [
       "DecisionTreeClassifier(ccp_alpha=0.0, class_weight=None, criterion='entropy',\n",
       "                       max_depth=4, max_features=None, max_leaf_nodes=None,\n",
       "                       min_impurity_decrease=0.0, min_impurity_split=None,\n",
       "                       min_samples_leaf=1, min_samples_split=2,\n",
       "                       min_weight_fraction_leaf=0.0, presort='deprecated',\n",
       "                       random_state=None, splitter='best')"
      ]
     },
     "execution_count": 40,
     "metadata": {},
     "output_type": "execute_result"
    }
   ],
   "source": [
    "#Decision Tree Model\n",
    "from sklearn.tree import DecisionTreeClassifier\n",
    "DTree = DecisionTreeClassifier(criterion=\"entropy\", max_depth = 4).fit(X_train,y_train)\n",
    "DTree"
   ]
  },
  {
   "cell_type": "code",
   "execution_count": 41,
   "metadata": {},
   "outputs": [
    {
     "data": {
      "text/plain": [
       "DecisionTreeClassifier(ccp_alpha=0.0, class_weight=None, criterion='entropy',\n",
       "                       max_depth=4, max_features=None, max_leaf_nodes=None,\n",
       "                       min_impurity_decrease=0.0, min_impurity_split=None,\n",
       "                       min_samples_leaf=1, min_samples_split=2,\n",
       "                       min_weight_fraction_leaf=0.0, presort='deprecated',\n",
       "                       random_state=None, splitter='best')"
      ]
     },
     "execution_count": 41,
     "metadata": {},
     "output_type": "execute_result"
    }
   ],
   "source": [
    "#Decision Tree Model\n",
    "DTree2 = DecisionTreeClassifier(criterion=\"entropy\", max_depth = 4).fit(X2_train,y_train)\n",
    "DTree2"
   ]
  },
  {
   "cell_type": "markdown",
   "metadata": {},
   "source": [
    "###### Support Vector Machine"
   ]
  },
  {
   "cell_type": "code",
   "execution_count": 42,
   "metadata": {},
   "outputs": [],
   "source": [
    "from sklearn import svm\n",
    "SVM = svm.SVC().fit(X_train, y_train) "
   ]
  },
  {
   "cell_type": "code",
   "execution_count": 43,
   "metadata": {},
   "outputs": [],
   "source": [
    "SVM2 = svm.SVC().fit(X2_train, y_train)"
   ]
  },
  {
   "cell_type": "markdown",
   "metadata": {},
   "source": [
    "###### LOGISTIC REGRESSION"
   ]
  },
  {
   "cell_type": "code",
   "execution_count": 44,
   "metadata": {},
   "outputs": [],
   "source": [
    "from sklearn.linear_model import LogisticRegression"
   ]
  },
  {
   "cell_type": "code",
   "execution_count": 45,
   "metadata": {},
   "outputs": [
    {
     "data": {
      "text/plain": [
       "LogisticRegression(C=0.01, class_weight=None, dual=False, fit_intercept=True,\n",
       "                   intercept_scaling=1, l1_ratio=None, max_iter=100,\n",
       "                   multi_class='auto', n_jobs=None, penalty='l2',\n",
       "                   random_state=None, solver='lbfgs', tol=0.0001, verbose=0,\n",
       "                   warm_start=False)"
      ]
     },
     "execution_count": 45,
     "metadata": {},
     "output_type": "execute_result"
    }
   ],
   "source": [
    "LR = LogisticRegression(C=0.01).fit(X_train,y_train)\n",
    "LR"
   ]
  },
  {
   "cell_type": "code",
   "execution_count": 46,
   "metadata": {},
   "outputs": [
    {
     "data": {
      "text/plain": [
       "LogisticRegression(C=0.01, class_weight=None, dual=False, fit_intercept=True,\n",
       "                   intercept_scaling=1, l1_ratio=None, max_iter=100,\n",
       "                   multi_class='auto', n_jobs=None, penalty='l2',\n",
       "                   random_state=None, solver='lbfgs', tol=0.0001, verbose=0,\n",
       "                   warm_start=False)"
      ]
     },
     "execution_count": 46,
     "metadata": {},
     "output_type": "execute_result"
    }
   ],
   "source": [
    "LR2 = LogisticRegression(C=0.01).fit(X2_train,y_train)\n",
    "LR2"
   ]
  },
  {
   "cell_type": "markdown",
   "metadata": {},
   "source": [
    "###### K-Nearest Neighbors"
   ]
  },
  {
   "cell_type": "code",
   "execution_count": 47,
   "metadata": {},
   "outputs": [],
   "source": [
    "from sklearn.neighbors import KNeighborsClassifier\n",
    "from sklearn import metrics"
   ]
  },
  {
   "cell_type": "code",
   "execution_count": 48,
   "metadata": {},
   "outputs": [
    {
     "data": {
      "text/plain": [
       "array([0.6361029 , 0.62886643, 0.66646075, 0.65891541, 0.67974231,\n",
       "       0.66787274, 0.67863919, 0.67382959, 0.68742002, 0.68146318,\n",
       "       0.69077351, 0.68697878, 0.69311212, 0.69178838])"
      ]
     },
     "execution_count": 48,
     "metadata": {},
     "output_type": "execute_result"
    }
   ],
   "source": [
    "# Best k\n",
    "Ks=15\n",
    "mean_acc=np.zeros((Ks-1))\n",
    "std_acc=np.zeros((Ks-1))\n",
    "ConfustionMx=[];\n",
    "for n in range(1,Ks):\n",
    "    \n",
    "    #Train Model and Predict  \n",
    "    kNN_model = KNeighborsClassifier(n_neighbors=n).fit(X_train,y_train)\n",
    "    yhat = kNN_model.predict(X_test)\n",
    "    \n",
    "    \n",
    "    mean_acc[n-1]=np.mean(yhat==y_test);\n",
    "    \n",
    "    std_acc[n-1]=np.std(yhat==y_test)/np.sqrt(yhat.shape[0])\n",
    "mean_acc"
   ]
  },
  {
   "cell_type": "code",
   "execution_count": 49,
   "metadata": {},
   "outputs": [
    {
     "name": "stdout",
     "output_type": "stream",
     "text": [
      "The highest accuracy is  0.6931121210784097 with k= 13\n"
     ]
    }
   ],
   "source": [
    "print(\"The highest accuracy is \", mean_acc.max(), \"with k=\", mean_acc.argmax()+1)"
   ]
  },
  {
   "cell_type": "code",
   "execution_count": 50,
   "metadata": {},
   "outputs": [
    {
     "data": {
      "text/plain": [
       "KNeighborsClassifier(algorithm='auto', leaf_size=30, metric='minkowski',\n",
       "                     metric_params=None, n_jobs=None, n_neighbors=13, p=2,\n",
       "                     weights='uniform')"
      ]
     },
     "execution_count": 50,
     "metadata": {},
     "output_type": "execute_result"
    }
   ],
   "source": [
    "k = 13\n",
    "kNN_model = KNeighborsClassifier(n_neighbors = k).fit(X_train,y_train)\n",
    "kNN_model"
   ]
  },
  {
   "cell_type": "code",
   "execution_count": 54,
   "metadata": {},
   "outputs": [
    {
     "data": {
      "text/plain": [
       "array([0.51405374, 0.52424657, 0.54754446, 0.54688258, 0.55270706,\n",
       "       0.56943035, 0.56303226, 0.56342938, 0.56678286, 0.56298813,\n",
       "       0.56554737, 0.56038477, 0.56387063, 0.55751666])"
      ]
     },
     "execution_count": 54,
     "metadata": {},
     "output_type": "execute_result"
    }
   ],
   "source": [
    "# Best k\n",
    "Ks=15\n",
    "mean_acc2=np.zeros((Ks-1))\n",
    "std_acc2=np.zeros((Ks-1))\n",
    "ConfustionMx2=[];\n",
    "for n in range(1,Ks):\n",
    "    \n",
    "    #Train Model and Predict  \n",
    "    kNN_model2 = KNeighborsClassifier(n_neighbors=n).fit(X2_train,y_train)\n",
    "    yhat = kNN_model2.predict(X2_test)\n",
    "    \n",
    "    \n",
    "    mean_acc2[n-1]=np.mean(yhat==y_test);\n",
    "    \n",
    "    std_acc2[n-1]=np.std(yhat==y_test)/np.sqrt(yhat.shape[0])\n",
    "mean_acc2"
   ]
  },
  {
   "cell_type": "code",
   "execution_count": 55,
   "metadata": {},
   "outputs": [
    {
     "name": "stdout",
     "output_type": "stream",
     "text": [
      "The highest accuracy is 0.5694303490270485 with k= 6\n"
     ]
    }
   ],
   "source": [
    "print(\"The highest accuracy is\", mean_acc2.max(), \"with k=\", mean_acc2.argmax()+1)"
   ]
  },
  {
   "cell_type": "code",
   "execution_count": 56,
   "metadata": {},
   "outputs": [
    {
     "data": {
      "text/plain": [
       "KNeighborsClassifier(algorithm='auto', leaf_size=30, metric='minkowski',\n",
       "                     metric_params=None, n_jobs=None, n_neighbors=6, p=2,\n",
       "                     weights='uniform')"
      ]
     },
     "execution_count": 56,
     "metadata": {},
     "output_type": "execute_result"
    }
   ],
   "source": [
    "kNN_model2 = KNeighborsClassifier(n_neighbors = mean_acc2.argmax()+1).fit(X2_train,y_train)\n",
    "kNN_model2"
   ]
  },
  {
   "cell_type": "markdown",
   "metadata": {},
   "source": [
    "## EVALUATE"
   ]
  },
  {
   "cell_type": "code",
   "execution_count": 57,
   "metadata": {},
   "outputs": [],
   "source": [
    "from sklearn import metrics\n",
    "from sklearn.metrics import jaccard_similarity_score\n",
    "from sklearn.metrics import f1_score\n",
    "from sklearn.metrics import log_loss"
   ]
  },
  {
   "cell_type": "markdown",
   "metadata": {},
   "source": [
    "###### DECISION TREE"
   ]
  },
  {
   "cell_type": "code",
   "execution_count": 58,
   "metadata": {},
   "outputs": [
    {
     "name": "stdout",
     "output_type": "stream",
     "text": [
      "DT Jaccard index: 0.68\n",
      "DT F1-score: 0.66\n",
      "DecisionTrees's Accuracy:  0.6804483078144994\n"
     ]
    },
    {
     "name": "stderr",
     "output_type": "stream",
     "text": [
      "C:\\Users\\ElaheSloss\\anaconda3\\lib\\site-packages\\sklearn\\metrics\\_classification.py:664: FutureWarning: jaccard_similarity_score has been deprecated and replaced with jaccard_score. It will be removed in version 0.23. This implementation has surprising behavior for binary and multiclass classification tasks.\n",
      "  FutureWarning)\n"
     ]
    }
   ],
   "source": [
    "#First Subset of independent variables\n",
    "predTree = DTree.predict(X_test)\n",
    "print(\"DT Jaccard index: %.2f\" % jaccard_similarity_score(y_test, predTree))\n",
    "print(\"DT F1-score: %.2f\" % f1_score(y_test, predTree, average='weighted') )\n",
    "print(\"DecisionTrees's Accuracy: \", metrics.accuracy_score(y_test, predTree))\n",
    "#np.unique(predTree, return_counts=True)"
   ]
  },
  {
   "cell_type": "code",
   "execution_count": 59,
   "metadata": {},
   "outputs": [
    {
     "name": "stdout",
     "output_type": "stream",
     "text": [
      "DT Jaccard index: 0.60\n",
      "DT F1-score: 0.60\n",
      "DecisionTrees's Accuracy:  0.6044213034461458\n"
     ]
    },
    {
     "name": "stderr",
     "output_type": "stream",
     "text": [
      "C:\\Users\\ElaheSloss\\anaconda3\\lib\\site-packages\\sklearn\\metrics\\_classification.py:664: FutureWarning: jaccard_similarity_score has been deprecated and replaced with jaccard_score. It will be removed in version 0.23. This implementation has surprising behavior for binary and multiclass classification tasks.\n",
      "  FutureWarning)\n"
     ]
    }
   ],
   "source": [
    "#Second set of independent variables\n",
    "predTree2=DTree2.predict(X2_test)\n",
    "print(\"DT Jaccard index: %.2f\" % jaccard_similarity_score(y_test, predTree2))\n",
    "print(\"DT F1-score: %.2f\" % f1_score(y_test, predTree2, average='weighted') )\n",
    "print(\"DecisionTrees's Accuracy: \", metrics.accuracy_score(y_test, predTree2))\n",
    "#np.unique(predTree2,return_counts=True)"
   ]
  },
  {
   "cell_type": "markdown",
   "metadata": {},
   "source": [
    "###### SVM"
   ]
  },
  {
   "cell_type": "code",
   "execution_count": 61,
   "metadata": {},
   "outputs": [
    {
     "name": "stdout",
     "output_type": "stream",
     "text": [
      "SVM Jaccard index: 0.71\n",
      "SVM F1-score: 0.71\n"
     ]
    },
    {
     "name": "stderr",
     "output_type": "stream",
     "text": [
      "C:\\Users\\ElaheSloss\\anaconda3\\lib\\site-packages\\sklearn\\metrics\\_classification.py:664: FutureWarning: jaccard_similarity_score has been deprecated and replaced with jaccard_score. It will be removed in version 0.23. This implementation has surprising behavior for binary and multiclass classification tasks.\n",
      "  FutureWarning)\n"
     ]
    }
   ],
   "source": [
    "SVM_yhat = SVM.predict(X_test)\n",
    "print(\"SVM Jaccard index: %.2f\" % jaccard_similarity_score(y_test, SVM_yhat))\n",
    "print(\"SVM F1-score: %.2f\" % f1_score(y_test, SVM_yhat, average='weighted') )"
   ]
  },
  {
   "cell_type": "code",
   "execution_count": 62,
   "metadata": {},
   "outputs": [
    {
     "name": "stdout",
     "output_type": "stream",
     "text": [
      "SVM Jaccard index: 0.62\n",
      "SVM F1-score: 0.62\n"
     ]
    },
    {
     "name": "stderr",
     "output_type": "stream",
     "text": [
      "C:\\Users\\ElaheSloss\\anaconda3\\lib\\site-packages\\sklearn\\metrics\\_classification.py:664: FutureWarning: jaccard_similarity_score has been deprecated and replaced with jaccard_score. It will be removed in version 0.23. This implementation has surprising behavior for binary and multiclass classification tasks.\n",
      "  FutureWarning)\n"
     ]
    }
   ],
   "source": [
    "SVM2_yhat = SVM2.predict(X2_test)\n",
    "print(\"SVM Jaccard index: %.2f\" % jaccard_similarity_score(y_test, SVM2_yhat))\n",
    "print(\"SVM F1-score: %.2f\" % f1_score(y_test, SVM2_yhat, average='weighted') )"
   ]
  },
  {
   "cell_type": "markdown",
   "metadata": {},
   "source": [
    "###### KNN"
   ]
  },
  {
   "cell_type": "code",
   "execution_count": 63,
   "metadata": {},
   "outputs": [
    {
     "name": "stdout",
     "output_type": "stream",
     "text": [
      "KNN Jaccard index: 0.69\n",
      "KNN F1-score: 0.69\n"
     ]
    },
    {
     "name": "stderr",
     "output_type": "stream",
     "text": [
      "C:\\Users\\ElaheSloss\\anaconda3\\lib\\site-packages\\sklearn\\metrics\\_classification.py:664: FutureWarning: jaccard_similarity_score has been deprecated and replaced with jaccard_score. It will be removed in version 0.23. This implementation has surprising behavior for binary and multiclass classification tasks.\n",
      "  FutureWarning)\n"
     ]
    }
   ],
   "source": [
    "knn_yhat = kNN_model.predict(X_test)\n",
    "print(\"KNN Jaccard index: %.2f\" % jaccard_similarity_score(y_test, knn_yhat))\n",
    "print(\"KNN F1-score: %.2f\" % f1_score(y_test, knn_yhat, average='weighted') )"
   ]
  },
  {
   "cell_type": "code",
   "execution_count": 64,
   "metadata": {},
   "outputs": [
    {
     "name": "stdout",
     "output_type": "stream",
     "text": [
      "KNN Jaccard index: 0.57\n",
      "KNN F1-score: 0.55\n"
     ]
    },
    {
     "name": "stderr",
     "output_type": "stream",
     "text": [
      "C:\\Users\\ElaheSloss\\anaconda3\\lib\\site-packages\\sklearn\\metrics\\_classification.py:664: FutureWarning: jaccard_similarity_score has been deprecated and replaced with jaccard_score. It will be removed in version 0.23. This implementation has surprising behavior for binary and multiclass classification tasks.\n",
      "  FutureWarning)\n"
     ]
    }
   ],
   "source": [
    "knn_yhat2 = kNN_model2.predict(X2_test)\n",
    "print(\"KNN Jaccard index: %.2f\" % jaccard_similarity_score(y_test, knn_yhat2))\n",
    "print(\"KNN F1-score: %.2f\" % f1_score(y_test, knn_yhat2, average='weighted') )"
   ]
  },
  {
   "cell_type": "markdown",
   "metadata": {},
   "source": [
    "###### Logistic Regression"
   ]
  },
  {
   "cell_type": "code",
   "execution_count": 65,
   "metadata": {},
   "outputs": [
    {
     "name": "stdout",
     "output_type": "stream",
     "text": [
      "LR Jaccard index: 0.71\n",
      "LR F1-score: 0.71\n",
      "LR LogLoss: 0.53\n"
     ]
    },
    {
     "name": "stderr",
     "output_type": "stream",
     "text": [
      "C:\\Users\\ElaheSloss\\anaconda3\\lib\\site-packages\\sklearn\\metrics\\_classification.py:664: FutureWarning: jaccard_similarity_score has been deprecated and replaced with jaccard_score. It will be removed in version 0.23. This implementation has surprising behavior for binary and multiclass classification tasks.\n",
      "  FutureWarning)\n"
     ]
    }
   ],
   "source": [
    "LR_yhat = LR.predict(X_test)\n",
    "LR_yhat_prob = LR.predict_proba(X_test)\n",
    "print(\"LR Jaccard index: %.2f\" % jaccard_similarity_score(y_test, LR_yhat))\n",
    "print(\"LR F1-score: %.2f\" % f1_score(y_test, LR_yhat, average='weighted') )\n",
    "print(\"LR LogLoss: %.2f\" % log_loss(y_test, LR_yhat_prob))"
   ]
  },
  {
   "cell_type": "code",
   "execution_count": 66,
   "metadata": {},
   "outputs": [
    {
     "name": "stdout",
     "output_type": "stream",
     "text": [
      "LR Jaccard index: 0.62\n",
      "LR F1-score: 0.62\n",
      "LR LogLoss: 0.63\n"
     ]
    },
    {
     "name": "stderr",
     "output_type": "stream",
     "text": [
      "C:\\Users\\ElaheSloss\\anaconda3\\lib\\site-packages\\sklearn\\metrics\\_classification.py:664: FutureWarning: jaccard_similarity_score has been deprecated and replaced with jaccard_score. It will be removed in version 0.23. This implementation has surprising behavior for binary and multiclass classification tasks.\n",
      "  FutureWarning)\n"
     ]
    }
   ],
   "source": [
    "LR_yhat2 = LR2.predict(X2_test)\n",
    "LR_yhat_prob2 = LR2.predict_proba(X2_test)\n",
    "print(\"LR Jaccard index: %.2f\" % jaccard_similarity_score(y_test, LR_yhat2))\n",
    "print(\"LR F1-score: %.2f\" % f1_score(y_test, LR_yhat2, average='weighted') )\n",
    "print(\"LR LogLoss: %.2f\" % log_loss(y_test, LR_yhat_prob2))"
   ]
  },
  {
   "cell_type": "code",
   "execution_count": null,
   "metadata": {},
   "outputs": [],
   "source": []
  }
 ],
 "metadata": {
  "kernelspec": {
   "display_name": "Python 3",
   "language": "python",
   "name": "python3"
  },
  "language_info": {
   "codemirror_mode": {
    "name": "ipython",
    "version": 3
   },
   "file_extension": ".py",
   "mimetype": "text/x-python",
   "name": "python",
   "nbconvert_exporter": "python",
   "pygments_lexer": "ipython3",
   "version": "3.7.6"
  }
 },
 "nbformat": 4,
 "nbformat_minor": 4
}
